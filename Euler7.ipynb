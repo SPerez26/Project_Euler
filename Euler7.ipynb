{
 "cells": [
  {
   "cell_type": "code",
   "execution_count": 24,
   "metadata": {},
   "outputs": [],
   "source": [
    "import math\n",
    "from IPython.display import clear_output"
   ]
  },
  {
   "cell_type": "code",
   "execution_count": 50,
   "metadata": {},
   "outputs": [
    {
     "name": "stdout",
     "output_type": "stream",
     "text": [
      "Position of the prime number to check: 10001\n",
      "10001th prime is: 104743\n",
      "----------------------------------------\n",
      "Timing: 3.4686 secs\n"
     ]
    }
   ],
   "source": [
    "# Problem 7\n",
    "\n",
    "import time\n",
    "\n",
    "start = time.time()\n",
    "\n",
    "#candidates = list(range(1,200))\n",
    "primes = []\n",
    "\n",
    "# Get prime numbers and save them in a list\n",
    "\n",
    "i = 2\n",
    "\n",
    "n = int(input(\"Position of the prime number to check: \"))\n",
    "\n",
    "while len(primes) < n: \n",
    "        \n",
    "    if isPrime(i):\n",
    "        primes.append(i)\n",
    "        i += 1\n",
    "        \n",
    "    else:\n",
    "        \n",
    "        i += 1\n",
    "            \n",
    "end = time.time()\n",
    "\n",
    "#print(len(primes))\n",
    "print(f\"{len(primes)}th prime is: {primes[-1]}\")\n",
    "print(\"----------------------------------------\")\n",
    "print(f\"Timing: {round(end-start,4)} secs\")\n",
    "#print(primes)"
   ]
  },
  {
   "cell_type": "code",
   "execution_count": 36,
   "metadata": {},
   "outputs": [],
   "source": [
    "# Optimmized code to check if a number is prime\n",
    "\n",
    "def isPrime(number):\n",
    "    \n",
    "    factors = []\n",
    "    \n",
    "    for i in range(1,int(math.sqrt(number))+1):\n",
    "        if number%i == 0:\n",
    "            factors.append(i)\n",
    "            \n",
    "    if len(factors) == 1:\n",
    "        return True\n",
    "    else:\n",
    "        return False"
   ]
  },
  {
   "cell_type": "code",
   "execution_count": 38,
   "metadata": {},
   "outputs": [
    {
     "data": {
      "text/plain": [
       "False"
      ]
     },
     "execution_count": 38,
     "metadata": {},
     "output_type": "execute_result"
    }
   ],
   "source": [
    "isPrime(8)"
   ]
  },
  {
   "cell_type": "code",
   "execution_count": null,
   "metadata": {},
   "outputs": [],
   "source": []
  }
 ],
 "metadata": {
  "kernelspec": {
   "display_name": "Python 3",
   "language": "python",
   "name": "python3"
  },
  "language_info": {
   "codemirror_mode": {
    "name": "ipython",
    "version": 3
   },
   "file_extension": ".py",
   "mimetype": "text/x-python",
   "name": "python",
   "nbconvert_exporter": "python",
   "pygments_lexer": "ipython3",
   "version": "3.7.4"
  }
 },
 "nbformat": 4,
 "nbformat_minor": 2
}
