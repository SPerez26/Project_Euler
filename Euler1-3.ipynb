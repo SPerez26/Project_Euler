{
 "cells": [
  {
   "cell_type": "code",
   "execution_count": null,
   "metadata": {},
   "outputs": [],
   "source": [
    "#Problem 1\n",
    "\n",
    "nums = []\n",
    "\n",
    "for i in range(1,1000):\n",
    "    if i%3 == 0 or i%5 == 0:\n",
    "        nums.append(i)\n",
    "        \n",
    "sum(nums)"
   ]
  },
  {
   "cell_type": "code",
   "execution_count": null,
   "metadata": {},
   "outputs": [],
   "source": [
    "# Problem 2\n",
    "\n",
    "fibonacci = [1,2]\n",
    "\n",
    "while max(fibonacci) < 4000000:\n",
    "    n = fibonacci[-1]+fibonacci[-2]\n",
    "    fibonacci.append(n)\n",
    "    \n",
    "#largest number is grater than 4.000.000 so we pop it off\n",
    "\n",
    "fibonacci.pop()\n",
    "    \n",
    "print(fibonacci)\n",
    "\n",
    "fibonacci_even = []\n",
    "\n",
    "for i in fibonacci:\n",
    "    if i%2 == 0:\n",
    "        fibonacci_even.append(i)\n",
    "        \n",
    "print(fibonacci_even)\n",
    "print(sum(fibonacci_even))"
   ]
  },
  {
   "cell_type": "code",
   "execution_count": null,
   "metadata": {},
   "outputs": [],
   "source": [
    "# Problem 3 (works but takes too long)\n",
    "\n",
    "import math\n",
    "\n",
    "primes = []\n",
    "prime_factors = []\n",
    "number = 25\n",
    "number_sqrt = int(math.sqrt(number))+1\n",
    "\n",
    "# Get al primes between 1 and the number\n",
    "\n",
    "for j in range(1,number):\n",
    "    \n",
    "    cocients = []\n",
    "\n",
    "    for i in range(2,j):\n",
    "        cocients.append(j%i)\n",
    "\n",
    "    #print(cocients)\n",
    "\n",
    "    if 0 not in cocients:\n",
    "        primes.append(j)\n",
    "        \n",
    "print(primes)\n",
    "\n",
    "for i in primes:\n",
    "    if number%i == 0:\n",
    "        prime_factors.append(i)\n",
    "        \n",
    "print(prime_factors)\n",
    "print(f\"Largest prime factor in {number} = {max(prime_factors)}\")"
   ]
  },
  {
   "cell_type": "code",
   "execution_count": 31,
   "metadata": {},
   "outputs": [],
   "source": [
    "# Problem 3 Solution 2\n",
    "\n",
    "# Get the factors of a number\n",
    "\n",
    "number = 13195\n",
    "\n",
    "def getFactors(number):\n",
    "    \n",
    "    factors = []\n",
    "    \n",
    "    # n is a factor o i if i&n == 0 \n",
    "    for i in range(1,int(math.sqrt(number+1))):\n",
    "        if number%i == 0:\n",
    "            factors.append(i)\n",
    "            \n",
    "    return factors\n",
    "            \n",
    "# Get prime numbers from factors\n",
    "\n"
   ]
  },
  {
   "cell_type": "code",
   "execution_count": 32,
   "metadata": {},
   "outputs": [
    {
     "data": {
      "text/plain": [
       "[1, 5, 7, 13, 29, 35, 65, 91]"
      ]
     },
     "execution_count": 32,
     "metadata": {},
     "output_type": "execute_result"
    }
   ],
   "source": [
    "getFactors(13195)"
   ]
  },
  {
   "cell_type": "code",
   "execution_count": 15,
   "metadata": {},
   "outputs": [],
   "source": [
    "# Check if number is prime\n",
    "\n",
    "def isPrime(number):\n",
    "    \n",
    "    if len(getFactors(number)) == 1:\n",
    "        return \"Prime\"\n",
    "    else:\n",
    "        return \"Not prime\""
   ]
  },
  {
   "cell_type": "code",
   "execution_count": 43,
   "metadata": {},
   "outputs": [
    {
     "name": "stdout",
     "output_type": "stream",
     "text": [
      "Select the number: 600851475143\n",
      "Factors of your number:\n",
      "[1, 71, 839, 1471, 6857, 59569, 104441, 486847]\n",
      "Prime factors of your number:\n",
      "Largest prime factor of the number 600851475143: \n",
      "6857\n"
     ]
    }
   ],
   "source": [
    "# SOLUTION 3\n",
    "\n",
    "import math\n",
    "\n",
    "n = int(input(\"Select the number: \"))\n",
    "\n",
    "primes = []\n",
    "\n",
    "print(\"Factors of your number:\")\n",
    "factors = getFactors(n)\n",
    "print(factors)\n",
    "\n",
    "print(\"Prime factors of your number:\")\n",
    "for i in factors:\n",
    "    if isPrime(i) == \"Prime\":\n",
    "        primes.append(i)\n",
    "\n",
    "print(f\"Largest prime factor of the number {n}: \")        \n",
    "print(max(primes))"
   ]
  },
  {
   "cell_type": "code",
   "execution_count": null,
   "metadata": {},
   "outputs": [],
   "source": [
    "#check if a number is prime\n",
    "\n",
    "def prime(number):\n",
    "    \n",
    "    cocients = []\n",
    "\n",
    "    for i in range(2,number):\n",
    "        cocients.append(number%i)\n",
    "\n",
    "    print(cocients)\n",
    "\n",
    "    if 0 not in cocients:\n",
    "        return \"Prime\"\n",
    "    else:\n",
    "        return \"Not prime\""
   ]
  }
 ],
 "metadata": {
  "kernelspec": {
   "display_name": "Python 3",
   "language": "python",
   "name": "python3"
  },
  "language_info": {
   "codemirror_mode": {
    "name": "ipython",
    "version": 3
   },
   "file_extension": ".py",
   "mimetype": "text/x-python",
   "name": "python",
   "nbconvert_exporter": "python",
   "pygments_lexer": "ipython3",
   "version": "3.7.4"
  }
 },
 "nbformat": 4,
 "nbformat_minor": 2
}
