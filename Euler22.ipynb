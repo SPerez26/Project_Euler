{
 "cells": [
  {
   "cell_type": "markdown",
   "metadata": {},
   "source": [
    "# Problem 22"
   ]
  },
  {
   "cell_type": "code",
   "execution_count": 28,
   "metadata": {},
   "outputs": [],
   "source": [
    "import string"
   ]
  },
  {
   "cell_type": "code",
   "execution_count": 50,
   "metadata": {},
   "outputs": [
    {
     "data": {
      "text/plain": [
       "<function TextIOWrapper.close()>"
      ]
     },
     "execution_count": 50,
     "metadata": {},
     "output_type": "execute_result"
    }
   ],
   "source": [
    "myfile = open(\"p022_names.txt\")\n",
    "txt = myfile.read()\n",
    "txt.split(\"L\")\n",
    "myfile.close"
   ]
  },
  {
   "cell_type": "code",
   "execution_count": 94,
   "metadata": {},
   "outputs": [
    {
     "data": {
      "text/plain": [
       "'\"AARON\"'"
      ]
     },
     "execution_count": 94,
     "metadata": {},
     "output_type": "execute_result"
    }
   ],
   "source": [
    "names = (txt.split(\",\"))\n",
    "names.sort()\n",
    "\n",
    "names[0]"
   ]
  },
  {
   "cell_type": "code",
   "execution_count": 143,
   "metadata": {},
   "outputs": [],
   "source": [
    "names_position = {}\n",
    "\n",
    "for i in range(0,len(names)):\n",
    "    \n",
    "    names_position[names[i]] = i+1"
   ]
  },
  {
   "cell_type": "code",
   "execution_count": 162,
   "metadata": {},
   "outputs": [
    {
     "name": "stdout",
     "output_type": "stream",
     "text": [
      "871198282\n"
     ]
    }
   ],
   "source": [
    "# PROBLEM 22\n",
    "\n",
    "result = 0\n",
    "\n",
    "for i in names:\n",
    "    \n",
    "    position = names_position.get(i)\n",
    "    summ = name_sum(i)\n",
    "    score = position * summ\n",
    "    \n",
    "    result += score\n",
    "    \n",
    "print(result)"
   ]
  },
  {
   "cell_type": "code",
   "execution_count": 134,
   "metadata": {},
   "outputs": [],
   "source": [
    "string.ascii_lowercase\n",
    "\n",
    "alphabet = {\"a\":1}\n",
    "\n",
    "alph_str = string.ascii_lowercase\n",
    "\n",
    "for i in range(1,len(alph_str)):\n",
    "    \n",
    "    alphabet[alph_str[i]] = i+1\n",
    "    \n",
    "alphabet['\"'] = 0"
   ]
  },
  {
   "cell_type": "code",
   "execution_count": 135,
   "metadata": {},
   "outputs": [],
   "source": [
    "def name_sum(name):\n",
    "    \n",
    "    summ = 0\n",
    "    \n",
    "    for i in name.lower():\n",
    "\n",
    "        summ += int(alphabet.get(i))\n",
    "    \n",
    "    return summ "
   ]
  },
  {
   "cell_type": "code",
   "execution_count": null,
   "metadata": {},
   "outputs": [],
   "source": []
  }
 ],
 "metadata": {
  "kernelspec": {
   "display_name": "Python 3",
   "language": "python",
   "name": "python3"
  },
  "language_info": {
   "codemirror_mode": {
    "name": "ipython",
    "version": 3
   },
   "file_extension": ".py",
   "mimetype": "text/x-python",
   "name": "python",
   "nbconvert_exporter": "python",
   "pygments_lexer": "ipython3",
   "version": "3.7.4"
  }
 },
 "nbformat": 4,
 "nbformat_minor": 2
}
