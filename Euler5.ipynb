{
 "cells": [
  {
   "cell_type": "code",
   "execution_count": 38,
   "metadata": {},
   "outputs": [
    {
     "name": "stdout",
     "output_type": "stream",
     "text": [
      "Timing: 3.16 secs\n",
      "Result: 232792560\n"
     ]
    }
   ],
   "source": [
    "# Problem 5\n",
    "\n",
    "import time\n",
    "from IPython.display import clear_output\n",
    "\n",
    "start_time = time.time()\n",
    "\n",
    "divisibles = list(range(1,21))\n",
    "#print(divisibles)\n",
    "\n",
    "# Reduce the list of divisibles\n",
    "\n",
    "reduced_divisibles = reduceDivisibles(divisibles)\n",
    "\n",
    "number = 20\n",
    "\n",
    "# Check if the number is divisble by all numbers in list\n",
    "# if not, add one and repeat\n",
    "\n",
    "while divisible(number,reduced_divisibles) is not True:\n",
    "        \n",
    "    number += 20 # has to be divisble by 20\n",
    "    #print(number)\n",
    "    #clear_output()\n",
    "    \n",
    "end_time = time.time()\n",
    "timing = round(end_time-start_time,2)\n",
    "\n",
    "print(f\"Timing: {timing} secs\")\n",
    "print(f\"Result: {number}\")\n",
    "\n",
    "#print(reduced_divisibles)\n",
    "\n",
    "#Optimize code:\n",
    "\n",
    "# Take numbers from divisible list.\n",
    "    # i.e if number is divisible by 12, it will also be by 2,3,4 and 6\n",
    "    # so we can take 2,3,4 and 6 out\n",
    "    # Has to be divisible by 20, so increment 20"
   ]
  },
  {
   "cell_type": "code",
   "execution_count": 2,
   "metadata": {},
   "outputs": [],
   "source": [
    "def getFactors(number):\n",
    "    \n",
    "    factors = []\n",
    "    \n",
    "    for i in range(1,number):\n",
    "        if number%i == 0:\n",
    "            factors.append(i)\n",
    "            \n",
    "    return factors"
   ]
  },
  {
   "cell_type": "code",
   "execution_count": 3,
   "metadata": {},
   "outputs": [
    {
     "data": {
      "text/plain": [
       "[1, 2, 4]"
      ]
     },
     "execution_count": 3,
     "metadata": {},
     "output_type": "execute_result"
    }
   ],
   "source": [
    "getFactors(8)"
   ]
  },
  {
   "cell_type": "code",
   "execution_count": 4,
   "metadata": {},
   "outputs": [],
   "source": [
    "def reduceDivisibles(all_divisibles):\n",
    "    \n",
    "    \"\"\"\n",
    "    OUTPUT: list of indispensable divisibles\n",
    "    Input: list with all divisibles\n",
    "    \"\"\"\n",
    "    \n",
    "    factors_to_remove = []\n",
    "\n",
    "    for i in reversed(all_divisibles):\n",
    "        factors = getFactors(i)\n",
    "        #print(f\"{i}: {factors}\")\n",
    "\n",
    "        if len(factors) > 1:\n",
    "            #remove all factors from divisibles\n",
    "            for i in factors:\n",
    "                if i in all_divisibles:\n",
    "                    #print(i)\n",
    "                    factors_to_remove.append(i)\n",
    "\n",
    "    for i in factors_to_remove:\n",
    "        if i in all_divisibles:\n",
    "            all_divisibles.remove(i)\n",
    "\n",
    "    return all_divisibles"
   ]
  },
  {
   "cell_type": "code",
   "execution_count": 5,
   "metadata": {},
   "outputs": [
    {
     "data": {
      "text/plain": [
       "[11, 12, 13, 14, 15, 16, 17, 18, 19, 20]"
      ]
     },
     "execution_count": 5,
     "metadata": {},
     "output_type": "execute_result"
    }
   ],
   "source": [
    "list1 = list(range(1,21))\n",
    "\n",
    "reduceDivisibles(list1)"
   ]
  },
  {
   "cell_type": "code",
   "execution_count": 6,
   "metadata": {},
   "outputs": [
    {
     "name": "stdout",
     "output_type": "stream",
     "text": [
      "Potential\n",
      "[1, 2, 3, 4, 5, 6, 7, 8, 9, 10]\n",
      "To remove: \n",
      "[1, 2, 3, 4, 5]\n",
      "Remaining:\n",
      "[6, 7, 8, 9, 10]\n"
     ]
    }
   ],
   "source": [
    "divisibles = list(range(1,11))\n",
    "factors_to_remove = []\n",
    "\n",
    "print(\"Potential\")\n",
    "print(divisibles)\n",
    "\n",
    "for i in reversed(divisibles):\n",
    "    factors = getFactors(i)\n",
    "    #print(f\"{i}: {factors}\")\n",
    "    \n",
    "    if len(factors) > 1:\n",
    "        #remove all factors from divisibles\n",
    "        for i in factors:\n",
    "            if i in divisibles:\n",
    "                #print(i)\n",
    "                factors_to_remove.append(i)\n",
    "                \n",
    "print(\"To remove: \")\n",
    "print(list(set(factors_to_remove)))\n",
    "\n",
    "for i in factors_to_remove:\n",
    "    if i in divisibles:\n",
    "        divisibles.remove(i)\n",
    "        \n",
    "print(\"Remaining:\")\n",
    "print(divisibles)"
   ]
  },
  {
   "cell_type": "code",
   "execution_count": 7,
   "metadata": {},
   "outputs": [
    {
     "data": {
      "text/plain": [
       "[1, 3]"
      ]
     },
     "execution_count": 7,
     "metadata": {},
     "output_type": "execute_result"
    }
   ],
   "source": [
    "a = [1,2,3]\n",
    "a.remove(2)\n",
    "a"
   ]
  },
  {
   "cell_type": "code",
   "execution_count": 8,
   "metadata": {},
   "outputs": [
    {
     "name": "stdout",
     "output_type": "stream",
     "text": [
      "10\n",
      "9\n",
      "8\n",
      "7\n",
      "6\n"
     ]
    }
   ],
   "source": [
    "for i in reversed(divisibles):\n",
    "    print(i)"
   ]
  },
  {
   "cell_type": "code",
   "execution_count": 9,
   "metadata": {},
   "outputs": [],
   "source": [
    "# Check if number is divisible by all numbers in a list\n",
    "\n",
    "def divisible(number,list_of_divisibles):\n",
    "    \n",
    "    for item in list_of_divisibles:\n",
    "        \n",
    "        if number%item != 0:\n",
    "            return False\n",
    "        \n",
    "    return True"
   ]
  },
  {
   "cell_type": "code",
   "execution_count": 10,
   "metadata": {},
   "outputs": [
    {
     "data": {
      "text/plain": [
       "False"
      ]
     },
     "execution_count": 10,
     "metadata": {},
     "output_type": "execute_result"
    }
   ],
   "source": [
    "list1 = [1,2,3,4,5,6,7,8,9,10]\n",
    "list2 = list(range(1,21))\n",
    "\n",
    "divisible(2520,list2)"
   ]
  },
  {
   "cell_type": "code",
   "execution_count": 11,
   "metadata": {},
   "outputs": [],
   "source": [
    "def isPrime(number):\n",
    "    \n",
    "    list_isPrime = []\n",
    "    \n",
    "    for i in range(1,number):\n",
    "        if number%i == 0:\n",
    "            list_isPrime.append(i)\n",
    "            \n",
    "    if len(list_isPrime) == 1:\n",
    "        return True\n",
    "    else:\n",
    "        return False"
   ]
  },
  {
   "cell_type": "code",
   "execution_count": 12,
   "metadata": {},
   "outputs": [
    {
     "data": {
      "text/plain": [
       "True"
      ]
     },
     "execution_count": 12,
     "metadata": {},
     "output_type": "execute_result"
    }
   ],
   "source": [
    "isPrime(19)"
   ]
  },
  {
   "cell_type": "code",
   "execution_count": null,
   "metadata": {},
   "outputs": [],
   "source": [
    "for i in range(1,20):\n",
    "    if divisible(2520,i):\n",
    "        print(f\"2520 is divisible by {i}\")\n",
    "    else:\n",
    "        print(f\"2520 is not diisible by {i}\")"
   ]
  },
  {
   "cell_type": "code",
   "execution_count": null,
   "metadata": {},
   "outputs": [],
   "source": []
  }
 ],
 "metadata": {
  "kernelspec": {
   "display_name": "Python 3",
   "language": "python",
   "name": "python3"
  },
  "language_info": {
   "codemirror_mode": {
    "name": "ipython",
    "version": 3
   },
   "file_extension": ".py",
   "mimetype": "text/x-python",
   "name": "python",
   "nbconvert_exporter": "python",
   "pygments_lexer": "ipython3",
   "version": "3.7.4"
  }
 },
 "nbformat": 4,
 "nbformat_minor": 2
}
