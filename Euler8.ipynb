{
 "cells": [
  {
   "cell_type": "code",
   "execution_count": 149,
   "metadata": {},
   "outputs": [
    {
     "name": "stdout",
     "output_type": "stream",
     "text": [
      "Number of adjacent numbers: 13\n",
      "23514624000\n"
     ]
    }
   ],
   "source": [
    "# Problem 8\n",
    "\n",
    "number_thousand = 7316717653133062491922511967442657474235534919493496983520312774506326239578318016984801869478851843858615607891129494954595017379583319528532088055111254069874715852386305071569329096329522744304355766896648950445244523161731856403098711121722383113622298934233803081353362766142828064444866452387493035890729629049156044077239071381051585930796086670172427121883998797908792274921901699720888093776657273330010533678812202354218097512545405947522435258490771167055601360483958644670632441572215539753697817977846174064955149290862569321978468622482839722413756570560574902614079729686524145351004748216637048440319989000889524345065854122758866688116427171479924442928230863465674813919123162824586178664583591245665294765456828489128831426076900422421902267105562632111110937054421750694165896040807198403850962455444362981230987879927244284909188845801561660979191338754992005240636899125607176060588611646710940507754100225698315520005593572972571636269561882670428252483600823257530420752963450\n",
    "\n",
    "mylist = numb_to_series(number_thousand)\n",
    "\n",
    "myproducts = []\n",
    "\n",
    "n = int(input(\"Number of adjacent numbers: \"))\n",
    "\n",
    "#print(len(mylist))\n",
    "##print(\"--------------\")\n",
    "\n",
    "for i in range(1,len(mylist)):\n",
    "    \n",
    "    local_list = []\n",
    "    \n",
    "    while len(local_list) < n and i <= len(mylist):\n",
    "        numb = mylist[i-1]\n",
    "        local_list.append(numb)\n",
    "        i += 1\n",
    "    \n",
    "    if len(local_list) == n and 0 not in local_list:\n",
    "        #print(local_list)\n",
    "        product = productSeries(local_list)\n",
    "        myproducts.append(product)\n",
    "        #print(f\"{local_list} - {numpy.prod(local_list)}\")\n",
    "\n",
    "print(max(myproducts))\n"
   ]
  },
  {
   "cell_type": "code",
   "execution_count": 26,
   "metadata": {},
   "outputs": [],
   "source": [
    "def numb_to_series(number):\n",
    "    \n",
    "    list_a = list(str(number))\n",
    "    list_b = []\n",
    "\n",
    "    for i in list_a:\n",
    "        list_b.append(int(i))\n",
    "\n",
    "    return list_b"
   ]
  },
  {
   "cell_type": "code",
   "execution_count": 144,
   "metadata": {},
   "outputs": [],
   "source": [
    "def productSeries(mylist):\n",
    "    \n",
    "    prod = 1\n",
    "\n",
    "    for i in range(0,len(mylist)):\n",
    "        prod = prod * mylist[i]\n",
    "\n",
    "    return prod"
   ]
  }
 ],
 "metadata": {
  "kernelspec": {
   "display_name": "Python 3",
   "language": "python",
   "name": "python3"
  },
  "language_info": {
   "codemirror_mode": {
    "name": "ipython",
    "version": 3
   },
   "file_extension": ".py",
   "mimetype": "text/x-python",
   "name": "python",
   "nbconvert_exporter": "python",
   "pygments_lexer": "ipython3",
   "version": "3.7.4"
  }
 },
 "nbformat": 4,
 "nbformat_minor": 2
}
