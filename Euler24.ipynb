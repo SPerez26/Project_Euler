{
 "cells": [
  {
   "cell_type": "markdown",
   "metadata": {},
   "source": [
    "# Problem 24"
   ]
  },
  {
   "cell_type": "code",
   "execution_count": 29,
   "metadata": {},
   "outputs": [
    {
     "name": "stdout",
     "output_type": "stream",
     "text": [
      "The 1000000th combinaiton is: (2, 7, 8, 3, 9, 1, 5, 4, 6, 0)\n",
      "Calculation time: 0.9728 secs\n"
     ]
    }
   ],
   "source": [
    "# Problem 24\n",
    "\n",
    "import itertools , time\n",
    "\n",
    "start = time.time()\n",
    "\n",
    "mylist = list(range(0,10))\n",
    "count = 1\n",
    "upper = 1000000\n",
    "\n",
    "perm = itertools.permutations(mylist)\n",
    "\n",
    "while count < upper:\n",
    "    \n",
    "    for i in list(perm):\n",
    "        \n",
    "        combination = i\n",
    "        count = count + 1\n",
    "        \n",
    "        if count > upper:\n",
    "            break\n",
    "            \n",
    "end = time.time()\n",
    "\n",
    "print(f\"The {upper}th combinaiton is: {combination}\")\n",
    "print(f\"Calculation time: {round(end-start,4)} secs\")            \n"
   ]
  }
 ],
 "metadata": {
  "kernelspec": {
   "display_name": "Python 3",
   "language": "python",
   "name": "python3"
  },
  "language_info": {
   "codemirror_mode": {
    "name": "ipython",
    "version": 3
   },
   "file_extension": ".py",
   "mimetype": "text/x-python",
   "name": "python",
   "nbconvert_exporter": "python",
   "pygments_lexer": "ipython3",
   "version": "3.7.4"
  }
 },
 "nbformat": 4,
 "nbformat_minor": 2
}
