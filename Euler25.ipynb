{
 "cells": [
  {
   "cell_type": "markdown",
   "metadata": {},
   "source": [
    "# Problem 25"
   ]
  },
  {
   "cell_type": "code",
   "execution_count": 29,
   "metadata": {},
   "outputs": [
    {
     "name": "stdout",
     "output_type": "stream",
     "text": [
      "The first number of the Fibonacci series with 1000 is in position 4782.\n",
      "Calculation time: 0.0459 secs.\n"
     ]
    }
   ],
   "source": [
    "# Problem 25\n",
    "\n",
    "import time\n",
    "\n",
    "start = time.time()\n",
    "\n",
    "fibonacci = [1,1]\n",
    "f = 0\n",
    "position = 2\n",
    "\n",
    "digits = 1000\n",
    "\n",
    "# Fibonacci series\n",
    "\n",
    "while len(str(f)) < digits:\n",
    "    \n",
    "    f = fibonacci[-1] + fibonacci[-2]\n",
    "    fibonacci.append(f)\n",
    "    fibonacci.pop(0)\n",
    "    position += 1\n",
    "    \n",
    "end = time.time()\n",
    "    \n",
    "print(f\"The first number of the Fibonacci series with {digits} is in position {position}.\")    \n",
    "print(f\"Calculation time: {round(end-start,4)} secs.\")"
   ]
  },
  {
   "cell_type": "code",
   "execution_count": null,
   "metadata": {},
   "outputs": [],
   "source": []
  }
 ],
 "metadata": {
  "kernelspec": {
   "display_name": "Python 3",
   "language": "python",
   "name": "python3"
  },
  "language_info": {
   "codemirror_mode": {
    "name": "ipython",
    "version": 3
   },
   "file_extension": ".py",
   "mimetype": "text/x-python",
   "name": "python",
   "nbconvert_exporter": "python",
   "pygments_lexer": "ipython3",
   "version": "3.7.4"
  }
 },
 "nbformat": 4,
 "nbformat_minor": 2
}
