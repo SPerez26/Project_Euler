{
 "cells": [
  {
   "cell_type": "markdown",
   "metadata": {},
   "source": [
    "# Problem 31"
   ]
  },
  {
   "cell_type": "code",
   "execution_count": null,
   "metadata": {},
   "outputs": [],
   "source": [
    "# Problem 31\n",
    "\n",
    "import math,time\n",
    "\n",
    "start = time.time()\n",
    "\n",
    "results = []\n",
    "\n",
    "target = 200\n",
    "count = 0\n",
    "result = 0\n",
    "\n",
    "values = [1,2,5,10,20,50,100,200]\n",
    "\n",
    "for a in range(0,math.ceil(target/values[0])+1):\n",
    "    for b in range(0,math.ceil(target/values[1])+1):\n",
    "        for c in range(0,math.ceil(target/values[2])+1):\n",
    "            for d in range(0,math.ceil(target/values[3])+1):\n",
    "                for e in range(0,math.ceil(target/values[4])+1):\n",
    "                    for f in range(0,math.ceil(target/values[5])+1):\n",
    "                        for g in range(0,math.ceil(target/values[6])+1):\n",
    "                            for h in range(0,math.ceil(target/values[6])+1):\n",
    "            \n",
    "                                result = a*values[0] + b*values[1] + c*values[2] + d*values[3] + e*values[4] + f*values[5] + g*values[6] + h*values[7]\n",
    "\n",
    "                                if result == target:\n",
    "                                    count += 1\n",
    "                                    #print(count,a,b,c,d,e,f,g,h,result)\n",
    "                                \n",
    "                            \n",
    "end = time.time()\n",
    "                            \n",
    "print(f\"Total no. of combinations: {count}\")\n",
    "print(f\"Calculation time: {round(end-start,4)} secs\")"
   ]
  },
  {
   "cell_type": "code",
   "execution_count": 33,
   "metadata": {},
   "outputs": [
    {
     "name": "stdout",
     "output_type": "stream",
     "text": [
      "1 1 1\n",
      "1 1 2\n",
      "1 1 3\n",
      "1 1 4\n",
      "1 1 5\n",
      "1 1 6\n",
      "1 1 7\n",
      "Total no. of combinations: 0\n",
      "Calculation time: -537.6263 secs\n"
     ]
    }
   ],
   "source": [
    "import math,time\n",
    "\n",
    "start = time.time()\n",
    "\n",
    "results = []\n",
    "\n",
    "target = 200\n",
    "count = 0\n",
    "result = 0\n",
    "\n",
    "values = [1,2,5]\n",
    "\n",
    "for a in range(1,3): #100p\n",
    "    for b in range(1,math.ceil((target-100*a)/50)): #50p\n",
    "        for c in range(1,math.ceil((target-50*b)/20)): #20p\n",
    "            print(a,b,c)\n",
    "                            \n",
    "\n",
    "print(f\"Total no. of combinations: {count}\")\n",
    "print(f\"Calculation time: {round(end-start,4)} secs\")\n",
    "                "
   ]
  },
  {
   "cell_type": "code",
   "execution_count": null,
   "metadata": {},
   "outputs": [],
   "source": []
  }
 ],
 "metadata": {
  "kernelspec": {
   "display_name": "Python 3",
   "language": "python",
   "name": "python3"
  },
  "language_info": {
   "codemirror_mode": {
    "name": "ipython",
    "version": 3
   },
   "file_extension": ".py",
   "mimetype": "text/x-python",
   "name": "python",
   "nbconvert_exporter": "python",
   "pygments_lexer": "ipython3",
   "version": "3.7.4"
  }
 },
 "nbformat": 4,
 "nbformat_minor": 2
}
