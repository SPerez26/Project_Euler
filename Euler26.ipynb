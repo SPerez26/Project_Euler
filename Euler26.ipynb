{
 "cells": [
  {
   "cell_type": "markdown",
   "metadata": {},
   "source": [
    "# Problem 26"
   ]
  },
  {
   "cell_type": "code",
   "execution_count": 15,
   "metadata": {},
   "outputs": [],
   "source": [
    "# Problem 26\n",
    "\n",
    "from decimal import *\n",
    "\n",
    "def cycle_counter(d):\n",
    "\n",
    "    getcontext().prec = 1000\n",
    "    \n",
    "    numbers = []\n",
    "    cycle = []\n",
    "    d\n",
    "    i = 2\n",
    "    position = 0\n",
    "    max_len = 0\n",
    "\n",
    "    a = list(str(Decimal(1)/Decimal(d)))\n",
    "    a.pop(0)\n",
    "    a.pop(0)\n",
    "\n",
    "    #print(\"Number: \" , a)\n",
    "\n",
    "    for i in a:\n",
    "\n",
    "        if i == a[0] and position > 0:\n",
    "\n",
    "            print(\"Possible\",i,position)\n",
    "\n",
    "            if a[0:position] == a[position:2*position]:\n",
    "\n",
    "                #print(\"CYCLE FOUND!!!! Length:\",position)\n",
    "                break\n",
    "                \n",
    "            else:\n",
    "                print(\"False alarm\")\n",
    "                continue\n",
    "\n",
    "        position += 1\n",
    "\n",
    "        if position == len(a):\n",
    "\n",
    "            break\n",
    "\n",
    "    return position"
   ]
  },
  {
   "cell_type": "code",
   "execution_count": 24,
   "metadata": {},
   "outputs": [
    {
     "name": "stdout",
     "output_type": "stream",
     "text": [
      "Possible 1 6\n"
     ]
    },
    {
     "data": {
      "text/plain": [
       "6"
      ]
     },
     "execution_count": 24,
     "metadata": {},
     "output_type": "execute_result"
    }
   ],
   "source": [
    "cycle_counter(7)"
   ]
  },
  {
   "cell_type": "code",
   "execution_count": 25,
   "metadata": {},
   "outputs": [
    {
     "data": {
      "text/plain": [
       "'0.01612903225806451612903225806451612903225806451612903225806451612903225806451612903225806451612903225806451612903225806451612903225806451612903225806451612903225806451612903225806451612903225806451612903225806451612903225806451612903225806451612903225806451612903225806451612903225806451612903225806451612903225806451612903225806451612903225806451612903225806451612903225806451612903225806451612903225806451612903225806451612903225806451612903225806451612903225806451612903225806451612903225806451612903225806451612903225806451612903225806451612903225806451612903225806451612903225806451612903225806451612903225806451612903225806451612903225806451612903225806451612903225806451612903225806451612903225806451612903225806451612903225806451612903225806451612903225806451612903225806451612903225806451612903225806451612903225806451612903225806451612903225806451612903225806451612903225806451612903225806451612903225806451612903225806451612903225806451612903225806451612903225806451612903225806451612903226'"
      ]
     },
     "execution_count": 25,
     "metadata": {},
     "output_type": "execute_result"
    }
   ],
   "source": [
    "getcontext().prec = 1000\n",
    "a = str(Decimal(1)/Decimal(62))\n",
    "a"
   ]
  },
  {
   "cell_type": "code",
   "execution_count": 12,
   "metadata": {},
   "outputs": [
    {
     "name": "stdout",
     "output_type": "stream",
     "text": [
      "Cycle length for 2: 1\n",
      "Possible 3 1\n",
      "Cycle length for 3: 1\n"
     ]
    }
   ],
   "source": [
    "for i in range(2,4):\n",
    "    \n",
    "    print(f\"Cycle length for {i}: {cycle_counter(i)}\")"
   ]
  },
  {
   "cell_type": "code",
   "execution_count": 18,
   "metadata": {},
   "outputs": [
    {
     "data": {
      "text/plain": [
       "'0.05263157894736842105263157895'"
      ]
     },
     "execution_count": 18,
     "metadata": {},
     "output_type": "execute_result"
    }
   ],
   "source": [
    "numbers = []\n",
    "cycle = []\n",
    "d = 19\n",
    "i = 0\n",
    "\n",
    "a = str(Decimal(1)/Decimal(d))\n",
    "a"
   ]
  },
  {
   "cell_type": "code",
   "execution_count": 28,
   "metadata": {},
   "outputs": [
    {
     "name": "stdout",
     "output_type": "stream",
     "text": [
      "983\n"
     ]
    }
   ],
   "source": [
    "num = longest = 1\n",
    "\n",
    "for n in range(3, 1000, 2):\n",
    "    if n % 5 == 0:\n",
    "        continue\n",
    "\n",
    "    p = 1\n",
    "    while (10 ** p) % n != 1:\n",
    "        p += 1\n",
    "\n",
    "    if p > longest:\n",
    "        num, longest = n, p\n",
    "\n",
    "print(num)"
   ]
  },
  {
   "cell_type": "code",
   "execution_count": 198,
   "metadata": {},
   "outputs": [
    {
     "name": "stdout",
     "output_type": "stream",
     "text": [
      "nums ['0']\n",
      "nums ['0', '5']\n",
      "nums ['0', '5', '2']\n",
      "nums ['0', '5', '2', '6']\n",
      "nums ['0', '5', '2', '6', '3']\n",
      "nums ['0', '5', '2', '6', '3', '1']\n",
      "possib ['5']\n",
      "nums ['0', '5', '2', '6', '3', '1', '7']\n",
      "nums ['0', '5', '2', '6', '3', '1', '7', '8']\n",
      "nums ['0', '5', '2', '6', '3', '1', '7', '8', '9']\n",
      "nums ['0', '5', '2', '6', '3', '1', '7', '8', '9', '4']\n",
      "possib ['5', '7']\n",
      "possib ['5', '7', '3']\n",
      "possib ['5', '7', '3', '6']\n",
      "possib ['5', '7', '3', '6', '8']\n",
      "possib ['5', '7', '3', '6', '8', '4']\n",
      "possib ['5', '7', '3', '6', '8', '4', '2']\n",
      "possib ['5', '7', '3', '6', '8', '4', '2', '1']\n",
      "possib ['5', '7', '3', '6', '8', '4', '2', '1', '0']\n",
      "possib ['5', '7', '3', '6', '8', '4', '2', '1', '0', '5']\n",
      "possib ['5', '7', '3', '6', '8', '4', '2', '1', '0', '5', '2']\n",
      "possib ['5', '7', '3', '6', '8', '4', '2', '1', '0', '5', '2', '6']\n",
      "possib ['5', '7', '3', '6', '8', '4', '2', '1', '0', '5', '2', '6', '3']\n",
      "possib ['5', '7', '3', '6', '8', '4', '2', '1', '0', '5', '2', '6', '3', '1']\n",
      "possib ['5', '7', '3', '6', '8', '4', '2', '1', '0', '5', '2', '6', '3', '1', '5']\n",
      "possib ['5', '7', '3', '6', '8', '4', '2', '1', '0', '5', '2', '6', '3', '1', '5', '7']\n",
      "possib ['5', '7', '3', '6', '8', '4', '2', '1', '0', '5', '2', '6', '3', '1', '5', '7', '8']\n",
      "possib ['5', '7', '3', '6', '8', '4', '2', '1', '0', '5', '2', '6', '3', '1', '5', '7', '8', '9']\n",
      "possib ['5', '7', '3', '6', '8', '4', '2', '1', '0', '5', '2', '6', '3', '1', '5', '7', '8', '9', '5']\n",
      "Cycle length: 10: ['0', '5', '2', '6', '3', '1', '7', '8', '9', '4']\n"
     ]
    },
    {
     "data": {
      "text/plain": [
       "10"
      ]
     },
     "execution_count": 198,
     "metadata": {},
     "output_type": "execute_result"
    }
   ],
   "source": [
    "recurring_cicle_len(19)"
   ]
  },
  {
   "cell_type": "code",
   "execution_count": 197,
   "metadata": {},
   "outputs": [],
   "source": [
    "def recurring_cicle_len(d):\n",
    "    \n",
    "    numbers = []\n",
    "    possible_cycle = []\n",
    "    maximum = 0\n",
    "    a = str(Decimal(1)/Decimal(d))\n",
    "\n",
    "    while True:\n",
    "        for i in range(2,len(a)):\n",
    "\n",
    "            if a[i] in numbers:\n",
    "                possible_cycle.append(a[i])\n",
    "                cycle_len = len(numbers)\n",
    "                print(\"possib\",possible_cycle)\n",
    "            \n",
    "            else:\n",
    "                numbers.append(a[i])\n",
    "                print(\"nums\",numbers)\n",
    "\n",
    "            cycle_len = len(numbers)\n",
    "\n",
    "            if possible_cycle == numbers:\n",
    "\n",
    "                cycle_len = len(numbers)    \n",
    "                break\n",
    "\n",
    "            if len(possible_cycle) > 1 and possible_cycle[-1] == possible_cycle[-2]:\n",
    "\n",
    "                cycle_len = len(numbers)\n",
    "                break\n",
    "        \n",
    "        break\n",
    "\n",
    "    \n",
    "    print(f\"Cycle length: {cycle_len}: {numbers}\")\n",
    "\n",
    "    return cycle_len"
   ]
  },
  {
   "cell_type": "code",
   "execution_count": 169,
   "metadata": {},
   "outputs": [
    {
     "name": "stdout",
     "output_type": "stream",
     "text": [
      "Cycle length:2 1: ['0']\n",
      "Cycle length:2 1: ['5']\n",
      "Cycle length:3 1: ['3']\n",
      "Cycle length:3 2: ['2', '5']\n",
      "Cycle length:2 1: ['2']\n",
      "Cycle length:5 2: ['1', '6']\n",
      "Cycle length:13 6: ['1', '4', '2', '8', '5', '7']\n",
      "Cycle length:4 3: ['1', '2', '5']\n",
      "Cycle length:3 1: ['1']\n",
      "Cycle length:2 1: ['1']\n",
      "Cycle length:5 2: ['0', '9']\n",
      "Cycle length:6 3: ['0', '8', '3']\n",
      "Cycle length:13 6: ['0', '7', '6', '9', '2', '3']\n",
      "Cycle length:18 7: ['0', '7', '1', '4', '2', '8', '5']\n",
      "Cycle length:5 2: ['0', '6']\n",
      "Cycle length:5 4: ['0', '6', '2', '5']\n",
      "Cycle length:19 10: ['0', '5', '8', '2', '3', '9', '4', '1', '7', '6']\n",
      "Cycle length:5 2: ['0', '5']\n",
      "Cycle length:18 10: ['0', '5', '2', '6', '3', '1', '7', '8', '9', '4']\n"
     ]
    },
    {
     "data": {
      "text/plain": [
       "10"
      ]
     },
     "execution_count": 169,
     "metadata": {},
     "output_type": "execute_result"
    }
   ],
   "source": [
    "cycle_lenghts = []\n",
    "\n",
    "for i in range(1,20):\n",
    "    cycle_lenghts.append(recurring_cicle_len(i))\n",
    "    \n",
    "max(cycle_lenghts)"
   ]
  },
  {
   "cell_type": "code",
   "execution_count": 96,
   "metadata": {},
   "outputs": [
    {
     "name": "stdout",
     "output_type": "stream",
     "text": [
      "Cycle length: 6: ['1', '4', '2', '8', '5', '7']\n"
     ]
    }
   ],
   "source": [
    "numbers = []\n",
    "possible_cycle = []\n",
    "d = 7\n",
    "\n",
    "cycle = False\n",
    "\n",
    "while cycle == False:\n",
    "    for i in range(2,len(str(1/d))):\n",
    "\n",
    "        if str(1/d)[i] in numbers:\n",
    "            possible_cycle.append(str(1/d)[i])\n",
    "            cycle_len = len(numbers)\n",
    "            #print(\"possib\",possible_cycle)\n",
    "        else:\n",
    "            numbers.append(str(1/d)[i])\n",
    "            #print(\"nums\",numbers)\n",
    "            \n",
    "        cycle_len = len(numbers)\n",
    "            \n",
    "        if possible_cycle == numbers:\n",
    "            \n",
    "            cycle_len = len(numbers)    \n",
    "            break\n",
    "            \n",
    "        if len(possible_cycle) > 1 and possible_cycle[-1] == possible_cycle[-2]:\n",
    "            \n",
    "            cycle_len = len(numbers)\n",
    "            break\n",
    "            \n",
    "    break\n",
    "    \n",
    "print(f\"Cycle length: {cycle_len}: {numbers}\")"
   ]
  },
  {
   "cell_type": "code",
   "execution_count": 33,
   "metadata": {},
   "outputs": [
    {
     "data": {
      "text/plain": [
       "0.14285714285714285"
      ]
     },
     "execution_count": 33,
     "metadata": {},
     "output_type": "execute_result"
    }
   ],
   "source": [
    "1/7"
   ]
  },
  {
   "cell_type": "code",
   "execution_count": 45,
   "metadata": {},
   "outputs": [
    {
     "name": "stdout",
     "output_type": "stream",
     "text": [
      "0.3333333333333333\n",
      "['3']\n",
      "[]\n",
      "Y 3\n",
      "1\n",
      "['3', '3']\n",
      "['3']\n",
      "Y 3\n",
      "2\n",
      "['3', '3', '3']\n",
      "['3', '3']\n",
      "Y 3\n",
      "3\n",
      "['3', '3', '3', '3']\n",
      "['3', '3', '3']\n",
      "Y 3\n",
      "4\n",
      "['3', '3', '3', '3', '3']\n",
      "['3', '3', '3', '3']\n",
      "Y 3\n",
      "5\n",
      "['3', '3', '3', '3', '3', '3']\n",
      "['3', '3', '3', '3', '3']\n",
      "Y 3\n",
      "6\n",
      "['3', '3', '3', '3', '3', '3', '3']\n",
      "['3', '3', '3', '3', '3', '3']\n",
      "Y 3\n",
      "7\n",
      "['3', '3', '3', '3', '3', '3', '3', '3']\n",
      "['3', '3', '3', '3', '3', '3', '3']\n",
      "Y 3\n",
      "8\n",
      "['3', '3', '3', '3', '3', '3', '3', '3', '3']\n",
      "['3', '3', '3', '3', '3', '3', '3', '3']\n",
      "Y 3\n",
      "9\n",
      "['3', '3', '3', '3', '3', '3', '3', '3', '3', '3']\n",
      "['3', '3', '3', '3', '3', '3', '3', '3', '3']\n",
      "Y 3\n",
      "10\n",
      "['3', '3', '3', '3', '3', '3', '3', '3', '3', '3', '3']\n",
      "['3', '3', '3', '3', '3', '3', '3', '3', '3', '3']\n",
      "Y 3\n",
      "11\n",
      "['3', '3', '3', '3', '3', '3', '3', '3', '3', '3', '3', '3']\n",
      "['3', '3', '3', '3', '3', '3', '3', '3', '3', '3', '3']\n",
      "Y 3\n",
      "12\n",
      "['3', '3', '3', '3', '3', '3', '3', '3', '3', '3', '3', '3', '3']\n",
      "['3', '3', '3', '3', '3', '3', '3', '3', '3', '3', '3', '3']\n",
      "Y 3\n",
      "13\n",
      "['3', '3', '3', '3', '3', '3', '3', '3', '3', '3', '3', '3', '3', '3']\n",
      "['3', '3', '3', '3', '3', '3', '3', '3', '3', '3', '3', '3', '3']\n",
      "Y 3\n",
      "14\n",
      "['3', '3', '3', '3', '3', '3', '3', '3', '3', '3', '3', '3', '3', '3', '3']\n",
      "['3', '3', '3', '3', '3', '3', '3', '3', '3', '3', '3', '3', '3', '3']\n",
      "Y 3\n",
      "15\n",
      "['3', '3', '3', '3', '3', '3', '3', '3', '3', '3', '3', '3', '3', '3', '3', '3']\n",
      "['3', '3', '3', '3', '3', '3', '3', '3', '3', '3', '3', '3', '3', '3', '3']\n"
     ]
    },
    {
     "data": {
      "text/plain": [
       "(['3', '3', '3', '3', '3', '3', '3', '3', '3', '3', '3', '3', '3', '3', '3'],\n",
       " 1)"
      ]
     },
     "execution_count": 45,
     "metadata": {},
     "output_type": "execute_result"
    }
   ],
   "source": [
    "numbers = []\n",
    "possible_cycle = []\n",
    "possible_cycle2 = []\n",
    "d = 3\n",
    "\n",
    "count = 0\n",
    "cycle_len = 0\n",
    "\n",
    "print(1/d)\n",
    "\n",
    "for i in range(2,len(str(1/d))):\n",
    "    \n",
    "    if str(1/d)[i] in numbers:\n",
    "        \n",
    "        print(\"Y\",str(1/d)[i])\n",
    "        count += 1\n",
    "        print(count)\n",
    "        possible_cycle.append(str(1/d)[i])\n",
    "        \n",
    "        \n",
    "    else: \n",
    "        \n",
    "        cycle_len += 1\n",
    "    \n",
    "    numbers.append(str(1/d)[i])\n",
    "    print(numbers)\n",
    "    print(possible_cycle)\n",
    "    \n",
    "possible_cycle, cycle_len    \n",
    "    \n",
    "#numbers"
   ]
  },
  {
   "cell_type": "code",
   "execution_count": 12,
   "metadata": {},
   "outputs": [
    {
     "data": {
      "text/plain": [
       "0.14285714285714285"
      ]
     },
     "execution_count": 12,
     "metadata": {},
     "output_type": "execute_result"
    }
   ],
   "source": [
    "1/7"
   ]
  },
  {
   "cell_type": "code",
   "execution_count": 11,
   "metadata": {},
   "outputs": [
    {
     "data": {
      "text/plain": [
       "0.017857142857142856"
      ]
     },
     "execution_count": 11,
     "metadata": {},
     "output_type": "execute_result"
    }
   ],
   "source": [
    "1/56"
   ]
  },
  {
   "cell_type": "code",
   "execution_count": null,
   "metadata": {},
   "outputs": [],
   "source": []
  },
  {
   "cell_type": "code",
   "execution_count": 44,
   "metadata": {},
   "outputs": [
    {
     "ename": "NameError",
     "evalue": "name 'cycle' is not defined",
     "output_type": "error",
     "traceback": [
      "\u001b[1;31m---------------------------------------------------------------------------\u001b[0m",
      "\u001b[1;31mNameError\u001b[0m                                 Traceback (most recent call last)",
      "\u001b[1;32m<ipython-input-44-feee62829e81>\u001b[0m in \u001b[0;36m<module>\u001b[1;34m\u001b[0m\n\u001b[0;32m      1\u001b[0m \u001b[0mnumbers\u001b[0m\u001b[1;33m\u001b[0m\u001b[1;33m\u001b[0m\u001b[0m\n\u001b[0;32m      2\u001b[0m \u001b[1;33m\u001b[0m\u001b[0m\n\u001b[1;32m----> 3\u001b[1;33m \u001b[1;32mwhile\u001b[0m \u001b[0mcycle\u001b[0m \u001b[1;33m!=\u001b[0m \u001b[0mpossible_cycle\u001b[0m\u001b[1;33m:\u001b[0m\u001b[1;33m\u001b[0m\u001b[1;33m\u001b[0m\u001b[0m\n\u001b[0m\u001b[0;32m      4\u001b[0m \u001b[1;33m\u001b[0m\u001b[0m\n\u001b[0;32m      5\u001b[0m     \u001b[1;32mbreak\u001b[0m\u001b[1;33m\u001b[0m\u001b[1;33m\u001b[0m\u001b[0m\n",
      "\u001b[1;31mNameError\u001b[0m: name 'cycle' is not defined"
     ]
    }
   ],
   "source": [
    "numbers\n",
    "\n",
    "while cycle != possible_cycle:\n",
    "    \n",
    "    break"
   ]
  },
  {
   "cell_type": "code",
   "execution_count": null,
   "metadata": {},
   "outputs": [],
   "source": []
  }
 ],
 "metadata": {
  "kernelspec": {
   "display_name": "Python 3",
   "language": "python",
   "name": "python3"
  },
  "language_info": {
   "codemirror_mode": {
    "name": "ipython",
    "version": 3
   },
   "file_extension": ".py",
   "mimetype": "text/x-python",
   "name": "python",
   "nbconvert_exporter": "python",
   "pygments_lexer": "ipython3",
   "version": "3.7.4"
  }
 },
 "nbformat": 4,
 "nbformat_minor": 2
}
