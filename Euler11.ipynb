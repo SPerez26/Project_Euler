{
 "cells": [
  {
   "cell_type": "markdown",
   "metadata": {},
   "source": [
    "# Problem 11"
   ]
  },
  {
   "cell_type": "code",
   "execution_count": 1,
   "metadata": {},
   "outputs": [],
   "source": [
    "import numpy as np\n",
    "import time\n",
    "\n",
    "start = time.time()"
   ]
  },
  {
   "cell_type": "code",
   "execution_count": 2,
   "metadata": {},
   "outputs": [],
   "source": [
    "a = np.array([\n",
    "    [8,2,22,97,38,15,0,40,0,75,4,5,7,78,52,12,50,77,91,8],\n",
    "[49,49,99,40,17,81,18,57,60,87,17,40,98,43,69,48,4,56,62,0],\n",
    "[81,49,31,73,55,79,14,29,93,71,40,67,53,88,30,3,49,13,36,65],\n",
    "[52,70,95,23,4,60,11,42,69,24,68,56,1,32,56,71,37,2,36,91],\n",
    "[22,31,16,71,51,67,63,89,41,92,36,54,22,40,40,28,66,33,13,80],\n",
    "[24,47,32,60,99,3,45,2,44,75,33,53,78,36,84,20,35,17,12,50],\n",
    "[32,98,81,28,64,23,67,10,26,38,40,67,59,54,70,66,18,38,64,70],\n",
    "[67,26,20,68,2,62,12,20,95,63,94,39,63,8,40,91,66,49,94,21],\n",
    "[24,55,58,5,66,73,99,26,97,17,78,78,96,83,14,88,34,89,63,72],\n",
    "[21,36,23,9,75,0,76,44,20,45,35,14,0,61,33,97,34,31,33,95],\n",
    "[78,17,53,28,22,75,31,67,15,94,3,80,4,62,16,14,9,53,56,92],\n",
    "[16,39,5,42,96,35,31,47,55,58,88,24,0,17,54,24,36,29,85,57],\n",
    "[86,56,0,48,35,71,89,7,5,44,44,37,44,60,21,58,51,54,17,58],\n",
    "[19,80,81,68,5,94,47,69,28,73,92,13,86,52,17,77,4,89,55,40],\n",
    "[4,52,8,83,97,35,99,16,7,97,57,32,16,26,26,79,33,27,98,66],\n",
    "[88,36,68,87,57,62,20,72,3,46,33,67,46,55,12,32,63,93,53,69],\n",
    "[4,42,16,73,38,25,39,11,24,94,72,18,8,46,29,32,40,62,76,36],\n",
    "[20,69,36,41,72,30,23,88,34,62,99,69,82,67,59,85,74,4,36,16],\n",
    "[20,73,35,29,78,31,90,1,74,31,49,71,48,86,81,16,23,57,5,54],\n",
    "[1,70,54,71,83,51,54,69,16,92,33,48,61,43,52,1,89,19,67,48]\n",
    "])"
   ]
  },
  {
   "cell_type": "code",
   "execution_count": 3,
   "metadata": {},
   "outputs": [
    {
     "data": {
      "text/plain": [
       "(20, 20)"
      ]
     },
     "execution_count": 3,
     "metadata": {},
     "output_type": "execute_result"
    }
   ],
   "source": [
    "a.shape"
   ]
  },
  {
   "cell_type": "code",
   "execution_count": 4,
   "metadata": {},
   "outputs": [],
   "source": [
    "def largest_product_in_matrix(matrix):\n",
    "    \n",
    "    #print(matrix)\n",
    "    #print(\"\")\n",
    "    \n",
    "    matrix_products = []\n",
    "\n",
    "    # rows\n",
    "    #print(\"-----ROWS-----\")\n",
    "\n",
    "    for i in range(0,4):\n",
    "        #print(matrix[i])\n",
    "        #print(np.prod(matrix[i]))\n",
    "        matrix_products.append(np.prod(matrix[i]))\n",
    "                               \n",
    "    #columns\n",
    "    #print(\"-----COLUMNS-----\")                    \n",
    "    for i in range(0,4):\n",
    "        #print(matrix[:,i])\n",
    "        #print(np.prod(matrix[:,i]))\n",
    "        matrix_products.append(np.prod(matrix[:,i]))\n",
    "\n",
    "    #print(\"-----DIAGONALS-----\")\n",
    "    #diagonals (only 2)\n",
    "    d1 = 1\n",
    "    for i in range (0,4):\n",
    "        d1 = d1*matrix[i][i]\n",
    "\n",
    "    d2 = matrix[3][0]*matrix[2][1]*matrix[1][2]*matrix[0][3]\n",
    "\n",
    "    #print(d1)\n",
    "    #print(d2)\n",
    "    \n",
    "    matrix_products.append(d1)\n",
    "    matrix_products.append(d2)\n",
    "        \n",
    "    return max(matrix_products)"
   ]
  },
  {
   "cell_type": "code",
   "execution_count": 5,
   "metadata": {},
   "outputs": [
    {
     "name": "stdout",
     "output_type": "stream",
     "text": [
      "289 matrixes analysed\n",
      "Highest product: 70600674\n"
     ]
    }
   ],
   "source": [
    "counter = 0\n",
    "max_values = []\n",
    "\n",
    "for i in range(4,21): #rows\n",
    "    for j in range(4,21): #columns\n",
    "        \n",
    "        counter+=1 # number of matrixes\n",
    "        \n",
    "        matrix = a[i-4:i,j-4:j]\n",
    "        #print(matrix)\n",
    "        \n",
    "        #print(counter,largest_product_in_matrix(matrix))\n",
    "        max_values.append(largest_product_in_matrix(matrix))\n",
    "        \n",
    "print(f\"{counter} matrixes analysed\")\n",
    "print(f\"Highest product: {max(max_values)}\")"
   ]
  },
  {
   "cell_type": "code",
   "execution_count": 6,
   "metadata": {},
   "outputs": [
    {
     "name": "stdout",
     "output_type": "stream",
     "text": [
      "Calculation time: 0.1596 seconds\n"
     ]
    }
   ],
   "source": [
    "end = time.time()\n",
    "print(f\"Calculation time: {round(end-start,4)} seconds\")"
   ]
  },
  {
   "cell_type": "code",
   "execution_count": null,
   "metadata": {},
   "outputs": [],
   "source": []
  }
 ],
 "metadata": {
  "kernelspec": {
   "display_name": "Python 3",
   "language": "python",
   "name": "python3"
  },
  "language_info": {
   "codemirror_mode": {
    "name": "ipython",
    "version": 3
   },
   "file_extension": ".py",
   "mimetype": "text/x-python",
   "name": "python",
   "nbconvert_exporter": "python",
   "pygments_lexer": "ipython3",
   "version": "3.7.6"
  }
 },
 "nbformat": 4,
 "nbformat_minor": 4
}
