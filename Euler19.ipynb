{
 "cells": [
  {
   "cell_type": "code",
   "execution_count": 64,
   "metadata": {},
   "outputs": [
    {
     "name": "stdout",
     "output_type": "stream",
     "text": [
      "The total no. of Sundays that fell on the first day of the month was: 171\n"
     ]
    }
   ],
   "source": [
    "# Problem 19\n",
    "\n",
    "years = [list(range(1901,2001)),[]]\n",
    "months = [list(range(1,13)),[31,28,31,30,31,30,31,31,30,31,30,31]]\n",
    "week_days = [\"Monday\",\"Tuesday\",\"Wednesday\",\"Thursday\",\"Friday\",\"Saturday\",\"Sunday\"]\n",
    "\n",
    "# First of 1901 = last 1900 + 1\n",
    "\n",
    "start = week_days[week_days.index(last_day_of_year(\"Monday\",365))+1]\n",
    "\n",
    "# Leap and non leap years\n",
    "\n",
    "for i in years[0]:\n",
    "    if (i%100 == 0 and i%400 == 0) or (i%100 != 0 and i%4 == 0):\n",
    "        #leap years\n",
    "        years[1].append(366)\n",
    "        tot_days += 366\n",
    "    else:\n",
    "        #non leap years\n",
    "        years[1].append(365)\n",
    "        tot_days += 365\n",
    "        \n",
    "    #print(i,years[1][-1])\n",
    "    \n",
    "# Last day of each year --> First day of each year\n",
    "\n",
    "    # Year 1900:\n",
    "    # Start next = first day of next year\n",
    "    \n",
    "lastday1900 = last_day_of_year(\"Monday\",365)\n",
    "\n",
    "if week_days.index(lastday1900) == 6:\n",
    "        \n",
    "    start_next = \"Monday\"\n",
    "    \n",
    "else:\n",
    "        \n",
    "    start_next = week_days[week_days.index(lastday1900)+1]\n",
    "    \n",
    "start_day = start_next\n",
    "\n",
    "first_last_day_year = [[],[],[],[],[]]\n",
    "\n",
    "for i in range(1,len(years[1])+1):\n",
    "    \n",
    "    year_days = years[1][i-1]\n",
    "    last_day = last_day_of_year(start_day,year_days)\n",
    "    \n",
    "    #print(i,years[0][i-1],year_days,start_day,last_day)\n",
    "    \n",
    "    first_last_day_year[0].append(i)\n",
    "    first_last_day_year[1].append(years[0][i-1])\n",
    "    first_last_day_year[2].append(year_days)\n",
    "    first_last_day_year[3].append(start_day)\n",
    "    first_last_day_year[4].append(last_day)\n",
    "        \n",
    "    if week_days.index(last_day) == 6:\n",
    "        \n",
    "        start_day = \"Monday\"\n",
    "    \n",
    "    else:\n",
    "\n",
    "        start_day = week_days[week_days.index(last_day)+1]\n",
    "        \n",
    "# We have the start and end day of each year\n",
    "\n",
    "total_sundays = 0\n",
    "\n",
    "for i in range(0,100):\n",
    "    \n",
    "    #print(first_last_day_year[1][i],first_last_day_year[2][i],first_last_day_year[3][i],first_last_day_year[4][i])\n",
    "    \n",
    "    start_day_year = first_last_day_year[3][i]\n",
    "    year_days = first_last_day_year[2][i]\n",
    "    \n",
    "    if start_day_year == \"Sunday\":\n",
    "        \n",
    "        total_sundays += 1\n",
    "    \n",
    "    #print(1,start_day_year)\n",
    "    \n",
    "    for j in range(1,12):\n",
    "        \n",
    "        day = first_day_of_month(first_last_day_year[3][i],first_last_day_year[2][i],j)\n",
    "        #print(j+1,day)\n",
    "        \n",
    "        if day == \"Sunday\":\n",
    "            \n",
    "            total_sundays += 1\n",
    "            \n",
    "print(f\"The total no. of Sundays that fell on the first day of the month was: {total_sundays}\")"
   ]
  },
  {
   "cell_type": "code",
   "execution_count": 2,
   "metadata": {},
   "outputs": [
    {
     "ename": "NameError",
     "evalue": "name 'last_day_of_year' is not defined",
     "output_type": "error",
     "traceback": [
      "\u001b[1;31m---------------------------------------------------------------------------\u001b[0m",
      "\u001b[1;31mNameError\u001b[0m                                 Traceback (most recent call last)",
      "\u001b[1;32m<ipython-input-2-baccecc8a105>\u001b[0m in \u001b[0;36m<module>\u001b[1;34m\u001b[0m\n\u001b[1;32m----> 1\u001b[1;33m \u001b[0mlastday1900\u001b[0m \u001b[1;33m=\u001b[0m \u001b[0mlast_day_of_year\u001b[0m\u001b[1;33m(\u001b[0m\u001b[1;34m\"Monday\"\u001b[0m\u001b[1;33m,\u001b[0m\u001b[1;36m365\u001b[0m\u001b[1;33m)\u001b[0m\u001b[1;33m\u001b[0m\u001b[1;33m\u001b[0m\u001b[0m\n\u001b[0m\u001b[0;32m      2\u001b[0m \u001b[1;33m\u001b[0m\u001b[0m\n\u001b[0;32m      3\u001b[0m \u001b[1;32mif\u001b[0m \u001b[0mweek_days\u001b[0m\u001b[1;33m.\u001b[0m\u001b[0mindex\u001b[0m\u001b[1;33m(\u001b[0m\u001b[0mlastday1900\u001b[0m\u001b[1;33m)\u001b[0m \u001b[1;33m==\u001b[0m \u001b[1;36m6\u001b[0m\u001b[1;33m:\u001b[0m\u001b[1;33m\u001b[0m\u001b[1;33m\u001b[0m\u001b[0m\n\u001b[0;32m      4\u001b[0m \u001b[1;33m\u001b[0m\u001b[0m\n\u001b[0;32m      5\u001b[0m     \u001b[0mstart_next\u001b[0m \u001b[1;33m=\u001b[0m \u001b[1;34m\"Monday\"\u001b[0m\u001b[1;33m\u001b[0m\u001b[1;33m\u001b[0m\u001b[0m\n",
      "\u001b[1;31mNameError\u001b[0m: name 'last_day_of_year' is not defined"
     ]
    }
   ],
   "source": [
    "lastday1900 = last_day_of_year(\"Monday\",365)\n",
    "\n",
    "if week_days.index(lastday1900) == 6:\n",
    "        \n",
    "    start_next = \"Monday\"\n",
    "    \n",
    "else:\n",
    "        \n",
    "    start_next = week_days[week_days.index(lastday1900)+1]\n",
    "    \n",
    "print(start_next)"
   ]
  },
  {
   "cell_type": "code",
   "execution_count": 3,
   "metadata": {},
   "outputs": [
    {
     "data": {
      "text/plain": [
       "36890"
      ]
     },
     "execution_count": 3,
     "metadata": {},
     "output_type": "execute_result"
    }
   ],
   "source": [
    "# how many days do we have between 1 Jan 1901 and 31 Dec 2000\n",
    "\n",
    "years = [list(range(1900,2001)),[]]\n",
    "\n",
    "days = []\n",
    "tot_days = 0\n",
    "\n",
    "week_days = [\"Monday\",\"Tuesday\",\"Wednesday\",\"Thursday\",\"Friday\",\"Saturday\",\"Sunday\"]\n",
    "days.append(years)\n",
    "\n",
    "for i in years[0]:\n",
    "    if (i%100 == 0 and i%400 == 0) or (i%100 != 0 and i%4 == 0):\n",
    "        #leap years\n",
    "        years[1].append(366)\n",
    "        tot_days += 366\n",
    "    else:\n",
    "        #non leap years\n",
    "        years[1].append(365)\n",
    "        tot_days += 365\n",
    "        \n",
    "tot_days\n",
    "#years\n",
    "        \n",
    "# Take away all sundays in year 1900"
   ]
  },
  {
   "cell_type": "code",
   "execution_count": 4,
   "metadata": {},
   "outputs": [
    {
     "data": {
      "text/plain": [
       "1"
      ]
     },
     "execution_count": 4,
     "metadata": {},
     "output_type": "execute_result"
    }
   ],
   "source": [
    "years = [[list(range(1900,2001))],[]]\n",
    "\n",
    "len(years[0])"
   ]
  },
  {
   "cell_type": "code",
   "execution_count": 5,
   "metadata": {},
   "outputs": [
    {
     "data": {
      "text/plain": [
       "1"
      ]
     },
     "execution_count": 5,
     "metadata": {},
     "output_type": "execute_result"
    }
   ],
   "source": [
    "len(years[0])"
   ]
  },
  {
   "cell_type": "code",
   "execution_count": 6,
   "metadata": {},
   "outputs": [],
   "source": [
    "def list_to_list(list1,list2):\n",
    "    \n",
    "    result = []\n",
    "    i = 1\n",
    "\n",
    "    while len(list1)>0:\n",
    "\n",
    "        if i>7:\n",
    "            i = 1\n",
    "\n",
    "        result.append(list2[i-1])\n",
    "\n",
    "        list1.pop(0)\n",
    "        i += 1\n",
    "\n",
    "    return result"
   ]
  },
  {
   "cell_type": "code",
   "execution_count": 7,
   "metadata": {},
   "outputs": [
    {
     "data": {
      "text/plain": [
       "['Monday',\n",
       " 'Tuesday',\n",
       " 'Wednesday',\n",
       " 'Thursday',\n",
       " 'Friday',\n",
       " 'Saturday',\n",
       " 'Sunday',\n",
       " 'Monday',\n",
       " 'Tuesday',\n",
       " 'Wednesday',\n",
       " 'Thursday',\n",
       " 'Friday',\n",
       " 'Saturday',\n",
       " 'Sunday',\n",
       " 'Monday',\n",
       " 'Tuesday',\n",
       " 'Wednesday',\n",
       " 'Thursday',\n",
       " 'Friday']"
      ]
     },
     "execution_count": 7,
     "metadata": {},
     "output_type": "execute_result"
    }
   ],
   "source": [
    "list1 = [1,2,3,4,5,6,7,8,9,10,11,12,13,14,15,16,17,18,19]\n",
    "list2 = [\"Monday\",\"Tuesday\",\"Wednesday\",\"Thursday\",\"Friday\",\"Saturday\",\"Sunday\"]\n",
    "\n",
    "list_to_list(list1,list2)"
   ]
  },
  {
   "cell_type": "code",
   "execution_count": 8,
   "metadata": {},
   "outputs": [],
   "source": [
    "def dayx_in_year(day,start_day,year_days):\n",
    "    \n",
    "    \"\"\"\n",
    "    OUTPUT: No. of times a certain day is in one year\n",
    "    INPUT:\n",
    "        day: day we want to look up\n",
    "        start_day: first day of the year (Mon-Sun)\n",
    "        year_days: 365 or 366\n",
    "    \"\"\"\n",
    "    \n",
    "    week_days = [\"Monday\",\"Tuesday\",\"Wednesday\",\"Thursday\",\"Friday\",\"Saturday\",\"Sunday\"]\n",
    "    i = week_days.index(day)\n",
    "    num_days = 0\n",
    "    \n",
    "    start = week_days.index(day)\n",
    "    \n",
    "    while i <= year_days:\n",
    "        \n",
    "        #print(i)\n",
    "        num_days += 1 \n",
    "        i+= 7\n",
    "        \n",
    "    return num_days"
   ]
  },
  {
   "cell_type": "code",
   "execution_count": 9,
   "metadata": {},
   "outputs": [
    {
     "name": "stdout",
     "output_type": "stream",
     "text": [
      "Monday 53\n",
      "Tuesday 53\n",
      "Wednesday 52\n",
      "Thursday 52\n",
      "Friday 52\n",
      "Saturday 52\n",
      "Sunday 52\n"
     ]
    }
   ],
   "source": [
    "for i in week_days:\n",
    "    print(i,dayx_in_year(i,\"Tuesday\",365))"
   ]
  },
  {
   "cell_type": "code",
   "execution_count": 10,
   "metadata": {},
   "outputs": [
    {
     "data": {
      "text/plain": [
       "6"
      ]
     },
     "execution_count": 10,
     "metadata": {},
     "output_type": "execute_result"
    }
   ],
   "source": [
    "week_days = [\"Monday\",\"Tuesday\",\"Wednesday\",\"Thursday\",\"Friday\",\"Saturday\",\"Sunday\"]\n",
    "week_days.index(\"Sunday\")"
   ]
  },
  {
   "cell_type": "code",
   "execution_count": 11,
   "metadata": {},
   "outputs": [],
   "source": [
    "def last_day_of_year(start_day,year_days):\n",
    "    \n",
    "    \"\"\"\n",
    "    OUTPUT: Last day of the year\n",
    "    INPUT:\n",
    "        start_day: first day of the year (Mon-Sun)\n",
    "        year_days: 365 or 366\n",
    "    \"\"\"\n",
    "    \n",
    "    week_days = [\"Monday\",\"Tuesday\",\"Wednesday\",\"Thursday\",\"Friday\",\"Saturday\",\"Sunday\"]\n",
    "    list1 = list(range(1,year_days+1))\n",
    "    list2 = week_days\n",
    "    result = []\n",
    "    \n",
    "    i = week_days.index(start_day)+1\n",
    "\n",
    "    while len(list1)>0:\n",
    "\n",
    "        if i>7:\n",
    "            i = 1\n",
    "\n",
    "        result.append(list2[i-1])\n",
    "\n",
    "        list1.pop(0)\n",
    "        i += 1\n",
    "\n",
    "    return result[-1]"
   ]
  },
  {
   "cell_type": "code",
   "execution_count": 12,
   "metadata": {},
   "outputs": [
    {
     "data": {
      "text/plain": [
       "'Sunday'"
      ]
     },
     "execution_count": 12,
     "metadata": {},
     "output_type": "execute_result"
    }
   ],
   "source": [
    "last_day_of_year(\"Saturday\",366)"
   ]
  },
  {
   "cell_type": "code",
   "execution_count": 13,
   "metadata": {},
   "outputs": [],
   "source": [
    "def first_day_of_month(start_day_year,year_days,month):\n",
    "    \n",
    "    \"\"\"\n",
    "    OUTPUT: First day of a given month\n",
    "    INPUT:\n",
    "        start_day_year: First day of the year (\"Mon-Fri\")\n",
    "        year_days: no. of days in the year\n",
    "        month: number of the month we want to check\n",
    "    \"\"\"\n",
    "    \n",
    "    if year_days == 365:\n",
    "        \n",
    "        months = [list(range(1,13)),[0,31,28,31,30,31,30,31,31,30,31,30,31]]\n",
    "        \n",
    "    else: \n",
    "        \n",
    "        months = [list(range(1,13)),[0,31,29,31,30,31,30,31,31,30,31,30,31]]\n",
    "    \n",
    "    week_days = [\"Monday\",\"Tuesday\",\"Wednesday\",\"Thursday\",\"Friday\",\"Saturday\",\"Sunday\"]\n",
    "    \n",
    "    # days until the 1st of our month\n",
    "    \n",
    "    sumdays = sum(months[1][:month+1])\n",
    "    \n",
    "    # List to list\n",
    "    \n",
    "    list1 = list(range(1,sumdays+1))\n",
    "    list2 = week_days\n",
    "    \n",
    "    result = []\n",
    "    i = week_days.index(start_day_year)+1\n",
    "\n",
    "    while len(list1)>0:\n",
    "\n",
    "        if i>7:\n",
    "            i = 1\n",
    "\n",
    "        result.append(list2[i-1])\n",
    "\n",
    "        list1.pop(0)\n",
    "        i += 1\n",
    "    \n",
    "    last = result[-1]\n",
    "    \n",
    "    if week_days.index(last) == 6:\n",
    "        \n",
    "        return \"Monday\"\n",
    "    \n",
    "    else:\n",
    "        \n",
    "        return week_days[week_days.index(last)+1] \n"
   ]
  },
  {
   "cell_type": "code",
   "execution_count": 14,
   "metadata": {},
   "outputs": [
    {
     "data": {
      "text/plain": [
       "['Tuesday',\n",
       " 'Friday',\n",
       " 'Friday',\n",
       " 'Monday',\n",
       " 'Wednesday',\n",
       " 'Saturday',\n",
       " 'Monday',\n",
       " 'Thursday',\n",
       " 'Sunday',\n",
       " 'Tuesday',\n",
       " 'Friday',\n",
       " 'Sunday']"
      ]
     },
     "execution_count": 14,
     "metadata": {},
     "output_type": "execute_result"
    }
   ],
   "source": [
    "result = [\"Tuesday\"]\n",
    "\n",
    "for i in range(1,12):\n",
    "    #print(i+1,first_day_of_month(\"Tuesday\",365,i))\n",
    "    result.append(first_day_of_month(\"Tuesday\",365,i))\n",
    "    \n",
    "result"
   ]
  },
  {
   "cell_type": "code",
   "execution_count": 15,
   "metadata": {},
   "outputs": [
    {
     "data": {
      "text/plain": [
       "31"
      ]
     },
     "execution_count": 15,
     "metadata": {},
     "output_type": "execute_result"
    }
   ],
   "source": [
    "months = [list(range(1,13)),[0,31,28,31,30,31,30,31,31,30,31,30,31]]\n",
    "month = 1\n",
    "\n",
    "sum(months[1][:month+1])"
   ]
  },
  {
   "cell_type": "code",
   "execution_count": 16,
   "metadata": {},
   "outputs": [
    {
     "data": {
      "text/plain": [
       "1"
      ]
     },
     "execution_count": 16,
     "metadata": {},
     "output_type": "execute_result"
    }
   ],
   "source": [
    "week_days = [\"Monday\",\"Tuesday\",\"Wednesday\",\"Thursday\",\"Friday\",\"Saturday\",\"Sunday\"]\n",
    "\n",
    "week_days.index(\"Monday\")+1"
   ]
  },
  {
   "cell_type": "code",
   "execution_count": null,
   "metadata": {},
   "outputs": [],
   "source": []
  }
 ],
 "metadata": {
  "kernelspec": {
   "display_name": "Python 3",
   "language": "python",
   "name": "python3"
  },
  "language_info": {
   "codemirror_mode": {
    "name": "ipython",
    "version": 3
   },
   "file_extension": ".py",
   "mimetype": "text/x-python",
   "name": "python",
   "nbconvert_exporter": "python",
   "pygments_lexer": "ipython3",
   "version": "3.7.4"
  }
 },
 "nbformat": 4,
 "nbformat_minor": 2
}
