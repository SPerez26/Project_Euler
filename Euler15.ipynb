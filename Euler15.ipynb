{
 "cells": [
  {
   "cell_type": "code",
   "execution_count": 4,
   "metadata": {},
   "outputs": [
    {
     "name": "stdout",
     "output_type": "stream",
     "text": [
      "Size of the grid: 20\n",
      "Number of paths found for a 20 size grid: 137846528820.0\n"
     ]
    }
   ],
   "source": [
    "# Problem 15\n",
    "\n",
    "import random\n",
    "import math\n",
    "\n",
    "size = int(input(\"Size of the grid: \"))\n",
    "\n",
    "# Binary problem \n",
    "# i.e. 1 = move tight, 0 = move down\n",
    "# how many different combinations of 1 and 0 can we have \n",
    "# Conditions:\n",
    "    # There can't be more that 20 of each (out of the grid)\n",
    "    # There always has to be a total of 40 moves\n",
    "    \n",
    "# ARRANGEMENT OF BINARY BITS\n",
    "\n",
    "paths = math.factorial(2*size)/math.factorial(size)**2\n",
    "print(f\"Number of paths found for a {size} size grid: {paths}\")"
   ]
  },
  {
   "cell_type": "code",
   "execution_count": null,
   "metadata": {},
   "outputs": [],
   "source": [
    "moves = [\n",
    "    random.randint(0,1),\n",
    "    random.randint(0,1),\n",
    "    random.randint(0,1),\n",
    "    random.randint(0,1)]"
   ]
  },
  {
   "cell_type": "code",
   "execution_count": 16,
   "metadata": {},
   "outputs": [
    {
     "name": "stdout",
     "output_type": "stream",
     "text": [
      "Size of the grid: 2\n"
     ]
    },
    {
     "data": {
      "text/plain": [
       "(6,\n",
       " [[0, 1, 1, 0],\n",
       "  [1, 0, 0, 1],\n",
       "  [0, 0, 1, 1],\n",
       "  [1, 0, 1, 0],\n",
       "  [1, 1, 0, 0],\n",
       "  [0, 1, 0, 1]])"
      ]
     },
     "execution_count": 16,
     "metadata": {},
     "output_type": "execute_result"
    }
   ],
   "source": [
    "# Interesting idea...\n",
    "# Gets all combinations by adding numbers randomly, \n",
    "# doesn't work well with larger grids\n",
    "\n",
    "import math\n",
    "import random\n",
    "\n",
    "all_moves = []\n",
    "moves = []\n",
    "\n",
    "size = int(input(\"Size of the grid: \"))\n",
    "paths = math.factorial(2*size)/math.factorial(size)**2\n",
    "\n",
    "while len(all_moves) < paths:\n",
    "    \n",
    "    moves = []\n",
    "    \n",
    "    for i in range(1,5):\n",
    "        \n",
    "        moves.append(random.randint(0,1))\n",
    "        \n",
    "    if moves not in all_moves:\n",
    "        if moves.count(0) == size and moves.count(1) == size:\n",
    "            all_moves.append(moves)  \n",
    "                \n",
    "len(all_moves),all_moves"
   ]
  },
  {
   "cell_type": "code",
   "execution_count": null,
   "metadata": {},
   "outputs": [],
   "source": []
  }
 ],
 "metadata": {
  "kernelspec": {
   "display_name": "Python 3",
   "language": "python",
   "name": "python3"
  },
  "language_info": {
   "codemirror_mode": {
    "name": "ipython",
    "version": 3
   },
   "file_extension": ".py",
   "mimetype": "text/x-python",
   "name": "python",
   "nbconvert_exporter": "python",
   "pygments_lexer": "ipython3",
   "version": "3.7.4"
  }
 },
 "nbformat": 4,
 "nbformat_minor": 2
}
