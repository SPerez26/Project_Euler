{
 "cells": [
  {
   "cell_type": "code",
   "execution_count": 10,
   "metadata": {},
   "outputs": [
    {
     "name": "stdout",
     "output_type": "stream",
     "text": [
      "25164150\n",
      "Timing: 0.0 secs\n"
     ]
    }
   ],
   "source": [
    "# Problem 6\n",
    "\n",
    "import time\n",
    "\n",
    "start = time.time()\n",
    "\n",
    "list_of_naturals = list(range(1,101))\n",
    "\n",
    "# Sum of squares\n",
    "\n",
    "s1 = sum_of_squares(list_of_naturals)\n",
    "\n",
    "#Square of sum\n",
    "\n",
    "s2 = square_of_sum(list_of_naturals)\n",
    "\n",
    "# Result\n",
    "\n",
    "print(s2 - s1)\n",
    "\n",
    "end = time.time()\n",
    "\n",
    "print(f\"Timing: {round(end-start,4)} secs\")"
   ]
  },
  {
   "cell_type": "code",
   "execution_count": null,
   "metadata": {},
   "outputs": [],
   "source": [
    "sum(list(range(1,11)))"
   ]
  },
  {
   "cell_type": "code",
   "execution_count": 1,
   "metadata": {},
   "outputs": [],
   "source": [
    "def sum_of_squares(numblist):\n",
    "    \n",
    "    sum_of_squares = 0\n",
    "    \n",
    "    for i in numblist:\n",
    "        sum_of_squares = sum_of_squares + i**2\n",
    "        \n",
    "    return sum_of_squares"
   ]
  },
  {
   "cell_type": "code",
   "execution_count": 2,
   "metadata": {},
   "outputs": [
    {
     "data": {
      "text/plain": [
       "385"
      ]
     },
     "execution_count": 2,
     "metadata": {},
     "output_type": "execute_result"
    }
   ],
   "source": [
    "sum_of_squares(list(range(1,11)))"
   ]
  },
  {
   "cell_type": "code",
   "execution_count": 3,
   "metadata": {},
   "outputs": [],
   "source": [
    "def square_of_sum(numblist):\n",
    "    \n",
    "    square_of_sum = sum(numblist)\n",
    "    \n",
    "    return square_of_sum**2"
   ]
  },
  {
   "cell_type": "code",
   "execution_count": null,
   "metadata": {},
   "outputs": [],
   "source": [
    "square_of_sum(list(range(1,11)))"
   ]
  },
  {
   "cell_type": "code",
   "execution_count": null,
   "metadata": {},
   "outputs": [],
   "source": []
  }
 ],
 "metadata": {
  "kernelspec": {
   "display_name": "Python 3",
   "language": "python",
   "name": "python3"
  },
  "language_info": {
   "codemirror_mode": {
    "name": "ipython",
    "version": 3
   },
   "file_extension": ".py",
   "mimetype": "text/x-python",
   "name": "python",
   "nbconvert_exporter": "python",
   "pygments_lexer": "ipython3",
   "version": "3.7.4"
  }
 },
 "nbformat": 4,
 "nbformat_minor": 2
}
