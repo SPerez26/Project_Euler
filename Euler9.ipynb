{
 "cells": [
  {
   "cell_type": "code",
   "execution_count": 4,
   "metadata": {},
   "outputs": [],
   "source": [
    "import math"
   ]
  },
  {
   "cell_type": "code",
   "execution_count": 8,
   "metadata": {},
   "outputs": [
    {
     "name": "stdout",
     "output_type": "stream",
     "text": [
      "There are 82834 potential Pythagorean Triplets\n",
      "The only Pythagorean Triplet is :\n",
      "[200, 375, 425]\n",
      "The product of which is: 31875000\n"
     ]
    }
   ],
   "source": [
    "# Problem 9\n",
    "\n",
    "# Conditions: \n",
    "    # a**2 + b**2 = c**2\n",
    "    # a < b < c\n",
    "    # a + b + c = 1000\n",
    "    \n",
    "# sqrt of a,b,c have to be a natural number {1,2,3,4...}\n",
    "\n",
    "numblist = [1,1,1]\n",
    "\n",
    "i = 1\n",
    "\n",
    "while (numblist[0] + numblist[1] + numblist[-1]) < 1000:\n",
    "    if int(math.sqrt(i)) == math.sqrt(i): # chek if it's int\n",
    "        numblist.append(int(math.sqrt(i)))\n",
    "        i = i + 1\n",
    "    else:\n",
    "        i = i + 1\n",
    "        \n",
    "for i in range(0,3):\n",
    "    numblist.pop(0)\n",
    "    \n",
    "# The numbers are within this list\n",
    "        \n",
    "#print(numblist)\n",
    "\n",
    "# Possible combinations of 3 that sum 1000\n",
    "\n",
    "possibles = sumlist(1000,numblist)\n",
    "\n",
    "print(f\"There are {len(possibles)} potential Pythagorean Triplets\")\n",
    "\n",
    "# Finde the pythagorean triplet\n",
    "\n",
    "pythagorean = False\n",
    "\n",
    "while True:\n",
    "    \n",
    "    for i in range(0,len(possibles)-1):\n",
    "        \n",
    "        if pythagoreanTriplet(possibles[i][0],possibles[i][1],possibles[i][2]):\n",
    "            \n",
    "            break\n",
    "            \n",
    "    break\n",
    "            \n",
    "solution = [possibles[i][0],possibles[i][1],possibles[i][2]]\n",
    "a = possibles[i][0]\n",
    "b = possibles[i][1]\n",
    "c = possibles[i][2]\n",
    "print(\"The only Pythagorean Triplet is :\")      \n",
    "print(possibles[i])\n",
    "print(f\"The product of which is: {a*b*c}\")"
   ]
  },
  {
   "cell_type": "code",
   "execution_count": 1,
   "metadata": {},
   "outputs": [],
   "source": [
    "def pythagoreanTriplet(a,b,c):\n",
    "    \n",
    "    if a < b < c and a**2 + b**2 == c**2:\n",
    "        return True\n",
    "    else:\n",
    "        return False"
   ]
  },
  {
   "cell_type": "code",
   "execution_count": 2,
   "metadata": {},
   "outputs": [],
   "source": [
    "def sumlist(n,numblist):\n",
    "    \"\"\"\n",
    "    Checks possible combinations of 3 numbers that sum n\n",
    "    INPUT = (no. of numbers to sum, number they have to sum, list)\n",
    "    OUTPUT = list of possible lists\n",
    "    CONDITION = a < b < c and a + b + c = n\n",
    "    \"\"\"\n",
    "    possibles = []\n",
    "    \n",
    "    prov_list = list.copy(numblist)\n",
    "    \n",
    "    for i in prov_list:\n",
    "                \n",
    "        # take i from the list\n",
    "        # find 2 numbers that sum n \n",
    "        \n",
    "        for j in prov_list:\n",
    "            \n",
    "            locals_list = []\n",
    "            \n",
    "            target = n - i # i is a\n",
    "            complementary = target - j\n",
    "            \n",
    "            if complementary in prov_list and i < j < complementary:\n",
    "                locals_list.append(i)\n",
    "                locals_list.append(j)\n",
    "                locals_list.append(complementary)\n",
    "\n",
    "                possibles.append(locals_list)          \n",
    "                \n",
    "    return possibles"
   ]
  }
 ],
 "metadata": {
  "kernelspec": {
   "display_name": "Python 3",
   "language": "python",
   "name": "python3"
  },
  "language_info": {
   "codemirror_mode": {
    "name": "ipython",
    "version": 3
   },
   "file_extension": ".py",
   "mimetype": "text/x-python",
   "name": "python",
   "nbconvert_exporter": "python",
   "pygments_lexer": "ipython3",
   "version": "3.7.4"
  }
 },
 "nbformat": 4,
 "nbformat_minor": 2
}
