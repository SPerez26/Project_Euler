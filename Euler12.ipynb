{
 "cells": [
  {
   "cell_type": "code",
   "execution_count": 1,
   "metadata": {},
   "outputs": [],
   "source": [
    "import math \n",
    "import time\n",
    "import sys\n",
    "from IPython.display import clear_output"
   ]
  },
  {
   "cell_type": "code",
   "execution_count": 235,
   "metadata": {},
   "outputs": [
    {
     "name": "stdout",
     "output_type": "stream",
     "text": [
      "No. of divisors: 500\n",
      "76576500 is the first triangle number to have over 500 divisors.\n",
      "Calculation time = 3.2623 secs\n"
     ]
    }
   ],
   "source": [
    "# Problem 10\n",
    "\n",
    "# 1st triangle to have over 7 divisors\n",
    "\n",
    "number = int(input(\"No. of divisors: \"))\n",
    "divisors = 0\n",
    "triang = 1\n",
    "\n",
    "start = time.time()\n",
    "\n",
    "i = 1\n",
    "step = 1\n",
    "\n",
    "while divisors < number:\n",
    "    #get next triang\n",
    "    i = i + step\n",
    "    triang = triang_number_position(i)\n",
    "    divisors = prime_factorization(triang)[2]\n",
    "    \n",
    "end = time.time() \n",
    "            \n",
    "print(f\"{triang} is the first triangle number to have over {number} divisors.\")\n",
    "print(f\"Calculation time = {round(end-start,4)} secs\")"
   ]
  },
  {
   "cell_type": "code",
   "execution_count": 225,
   "metadata": {},
   "outputs": [],
   "source": [
    "def triang_number_position(position):\n",
    "    \"\"\"\n",
    "    OUTPUT: returns the triangle number in a given position\n",
    "    \"\"\"\n",
    "    return sum(list(range(1,position+1)))"
   ]
  },
  {
   "cell_type": "code",
   "execution_count": 167,
   "metadata": {},
   "outputs": [],
   "source": [
    "def position_of_triang(number):\n",
    "    \"\"\"\n",
    "    OUTPUT: returns the position the position of a given triangle number\n",
    "    \"\"\"\n",
    "    \n",
    "    triangs = []\n",
    "    i = 1\n",
    "\n",
    "    while sum(triangs) < number:\n",
    "\n",
    "        i = i + 1\n",
    "        triangs.append(i)\n",
    "\n",
    "    return len(triangs)"
   ]
  },
  {
   "cell_type": "code",
   "execution_count": 3,
   "metadata": {},
   "outputs": [],
   "source": [
    "def isPrime(number):\n",
    "    \n",
    "    factors = []\n",
    "    \n",
    "    for i in range(1,int(math.sqrt(number))+1):\n",
    "        if number%i == 0:\n",
    "            factors.append(i)\n",
    "            \n",
    "    if len(factors) == 1:\n",
    "        return True\n",
    "    else:\n",
    "        return False"
   ]
  },
  {
   "cell_type": "code",
   "execution_count": 4,
   "metadata": {},
   "outputs": [],
   "source": [
    "def get_numb_of_factors(number):\n",
    "    \n",
    "    factors = []\n",
    "    \n",
    "    for i in range(1,number+1):\n",
    "        \n",
    "        if number%i == 0:\n",
    "            \n",
    "            factors.append(i)\n",
    "            \n",
    "    return factors,len(factors)"
   ]
  },
  {
   "cell_type": "code",
   "execution_count": 5,
   "metadata": {},
   "outputs": [],
   "source": [
    "# Properties of high composite (divisible) numbers:\n",
    "    # 1 - Primes of factorization need to be consecutive\n",
    "    # 2 - Powers of factorization have to go from higher to lower\n",
    "    # 3 - End with a prime to the power of 1"
   ]
  },
  {
   "cell_type": "code",
   "execution_count": 112,
   "metadata": {},
   "outputs": [],
   "source": [
    "def prime_factorization(number):\n",
    "    \n",
    "    # divide by primes from lowest to highest\n",
    "    # divide by two until the cocient%2 is not 0\n",
    "    #the start dividing by next prime number...\n",
    "    \n",
    "    \"\"\"\n",
    "    INPUT: Number you want to factorize\n",
    "    OUTPUT: [[prime factors],[powers of prime factors],[no. factors]]\n",
    "    \"\"\"\n",
    "    \n",
    "    prime_factors = []\n",
    "    powers = []\n",
    "    prime_numbs = []\n",
    "    original_numb = number\n",
    "    \n",
    "    #number = int(input(\"What number do you want to factorize? \"))\n",
    "    #top_range = int(input(\"How many primes do you want to consider? \"))\n",
    "\n",
    "    j = 1\n",
    "    a = 1\n",
    "    \n",
    "    top_range = 10\n",
    "    \n",
    "    while a <= top_range+1:\n",
    "    \n",
    "        if isPrime(j) == True:\n",
    "            prime_numbs.append(j)\n",
    "            j = j + 1\n",
    "            a = a + 1\n",
    "        else:\n",
    "            j = j + 1\n",
    "            \n",
    "    prime_numbs.remove(1)\n",
    "            \n",
    "    #print(f\"Primes considered: {prime_numbs}\")\n",
    "    \n",
    "    iteration = 0\n",
    "    \n",
    "    for i in prime_numbs:\n",
    "        \n",
    "        power = 0\n",
    "    \n",
    "        while number%i == 0:\n",
    "            prime_factors.append(i)\n",
    "            number = number / i\n",
    "            power = power + 1\n",
    "                    \n",
    "        powers.append(power)\n",
    "        \n",
    "        iteration += 1\n",
    "        \n",
    "        for i in powers:\n",
    "            if i == 0:\n",
    "                powers.remove(i)\n",
    "                \n",
    "    calculated_list = []\n",
    "    calculated = 1\n",
    "        \n",
    "\n",
    "    prime_factors_unique = list(set(prime_factors))\n",
    "    prime_factors_unique.sort()\n",
    "        \n",
    "    for i in range(0,len(powers)):\n",
    "        \n",
    "        calculated_list.append(prime_factors_unique[i]**powers[i])\n",
    "                 \n",
    "    for i in calculated_list:\n",
    "        calculated = calculated*i\n",
    "        \n",
    "    # Calculation of the number of factors\n",
    "    \n",
    "    num_factors = 1\n",
    "    \n",
    "    for i in range(len(powers)):\n",
    "        \n",
    "        num_factors = num_factors * (1 + powers[i])\n",
    "    \n",
    "    # Ending message, in case you need more primes\n",
    "        \n",
    "    if calculated == original_numb:\n",
    "        #print(\"Succesfully calculated!\")\n",
    "        return prime_factors_unique,powers,num_factors,calculated\n",
    "    else:\n",
    "        if isPrime(number):\n",
    "            prime_factors_unique.append(int(number))\n",
    "            powers.append(1)\n",
    "            #print(\"Succesfully calculated!\")\n",
    "            return prime_factors_unique,powers,num_factors\n",
    "        else:\n",
    "            #print(f\"You to consider more primes than {top_range}!\")\n",
    "            return prime_factors_unique,powers,num_factors,calculated\n",
    "        \n",
    "    #return prime_factors_unique,powers,num_factors,calculated"
   ]
  },
  {
   "cell_type": "code",
   "execution_count": 223,
   "metadata": {},
   "outputs": [
    {
     "data": {
      "text/plain": [
       "([2, 3, 5, 7, 11, 13, 17], [2, 2, 3, 1, 1, 1, 1], 576, 76576500)"
      ]
     },
     "execution_count": 223,
     "metadata": {},
     "output_type": "execute_result"
    }
   ],
   "source": [
    "prime_factorization(76576500)"
   ]
  },
  {
   "cell_type": "code",
   "execution_count": 183,
   "metadata": {},
   "outputs": [],
   "source": [
    "def triangle_numb_generator(number):\n",
    "    \n",
    "    \"\"\"\n",
    "    Generates a given number 0f triangle numbers\n",
    "    \"\"\"\n",
    "    mylist = []\n",
    "\n",
    "    i = 1\n",
    "\n",
    "    while len(mylist) < number:\n",
    "        i = i + 1\n",
    "        mylist.append(sum(list(range(1,i))))\n",
    "        \n",
    "    return mylist"
   ]
  },
  {
   "cell_type": "code",
   "execution_count": 195,
   "metadata": {},
   "outputs": [
    {
     "data": {
      "text/plain": [
       "25200"
      ]
     },
     "execution_count": 195,
     "metadata": {},
     "output_type": "execute_result"
    }
   ],
   "source": [
    "# 1sr triangle to have over 7 divisors\n",
    "\n",
    "divisors = 0\n",
    "triang = 1\n",
    "i = 1\n",
    "\n",
    "while divisors < 60:\n",
    "    #get next triang\n",
    "    i = i + 1\n",
    "    triang = triangle_numb_generator(i)[-1]\n",
    "    divisors = prime_factorization(triang)[2]\n",
    "    \n",
    "triang"
   ]
  }
 ],
 "metadata": {
  "kernelspec": {
   "display_name": "Python 3",
   "language": "python",
   "name": "python3"
  },
  "language_info": {
   "codemirror_mode": {
    "name": "ipython",
    "version": 3
   },
   "file_extension": ".py",
   "mimetype": "text/x-python",
   "name": "python",
   "nbconvert_exporter": "python",
   "pygments_lexer": "ipython3",
   "version": "3.7.4"
  }
 },
 "nbformat": 4,
 "nbformat_minor": 2
}
