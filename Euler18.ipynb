{
 "cells": [
  {
   "cell_type": "code",
   "execution_count": 25,
   "metadata": {},
   "outputs": [],
   "source": [
    "# Problem 18\n",
    "\n",
    "nums = [\n",
    "    [75],\n",
    "    [95,64],\n",
    "    [17,47,82],\n",
    "    [18,35,87,10],\n",
    "    [20, 4,82,47,65],\n",
    "    [19, 1,23,75, 3,34],\n",
    "    [88, 2,77,73, 7,63,67],\n",
    "    [99,65, 4,28, 6,16,70,92],\n",
    "    [41,41,26,56,83,40,80,70,33],\n",
    "    [41,48,72,33,47,32,37,16,94,29],\n",
    "    [53,71,44,65,25,43,91,52,97,51,14],\n",
    "    [70,11,33,28,77,73,17,78,39,68,17,57],\n",
    "    [91,71,52,38,17,14,91,43,58,50,27,29,48],\n",
    "    [63,66, 4,68,89,53,67,30,73,16,69,87,40,31],\n",
    "    [ 4,62,98,27,23, 9,70,98,73,93,38,53,60, 4,23]\n",
    "\n",
    "]"
   ]
  },
  {
   "cell_type": "code",
   "execution_count": 26,
   "metadata": {},
   "outputs": [
    {
     "data": {
      "text/plain": [
       "1074"
      ]
     },
     "execution_count": 26,
     "metadata": {},
     "output_type": "execute_result"
    }
   ],
   "source": [
    "maxpathsum(nums)"
   ]
  },
  {
   "cell_type": "code",
   "execution_count": 27,
   "metadata": {},
   "outputs": [],
   "source": [
    "def maxpathsum(nums):\n",
    "    \n",
    "    couple_max_list = [0]*len(nums[-1])\n",
    "    mylist = []\n",
    "\n",
    "    for j in range(len(nums)-1,-1,-1):\n",
    "\n",
    "        # Create first list = first row + maxs from last row\n",
    "\n",
    "        for i in range(0,len(couple_max_list)):\n",
    "\n",
    "            mylist.append(nums[j][i]+couple_max_list[i])\n",
    "\n",
    "        #print(\"mylist\",mylist)\n",
    "\n",
    "        couple_max_list = []\n",
    "\n",
    "        for i in range(0,len(mylist)):\n",
    "\n",
    "            couple_max = max(mylist[i:i+2])\n",
    "\n",
    "            if len(mylist[i:i+2]) > 1:\n",
    "\n",
    "                couple_max_list.append(couple_max)\n",
    "\n",
    "            #print((mylist[i:i+2]),couple_max)\n",
    "\n",
    "        #print(\"couple list\",couple_max_list)\n",
    "        #print(\"Next line\")\n",
    "        tot_sum = max(mylist)\n",
    "        mylist = []\n",
    "\n",
    "    return tot_sum"
   ]
  },
  {
   "cell_type": "code",
   "execution_count": null,
   "metadata": {},
   "outputs": [],
   "source": []
  }
 ],
 "metadata": {
  "kernelspec": {
   "display_name": "Python 3",
   "language": "python",
   "name": "python3"
  },
  "language_info": {
   "codemirror_mode": {
    "name": "ipython",
    "version": 3
   },
   "file_extension": ".py",
   "mimetype": "text/x-python",
   "name": "python",
   "nbconvert_exporter": "python",
   "pygments_lexer": "ipython3",
   "version": "3.7.4"
  }
 },
 "nbformat": 4,
 "nbformat_minor": 2
}
