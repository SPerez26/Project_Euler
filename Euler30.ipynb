{
 "cells": [
  {
   "cell_type": "markdown",
   "metadata": {},
   "source": [
    "# Problem 30"
   ]
  },
  {
   "cell_type": "code",
   "execution_count": 28,
   "metadata": {},
   "outputs": [
    {
     "name": "stdout",
     "output_type": "stream",
     "text": [
      "Checked until number 295246\n",
      "The sum of the results is: 443839\n",
      "Calcularion time: 1.3062 secs\n"
     ]
    }
   ],
   "source": [
    "# Problem 30\n",
    "\n",
    "import time\n",
    "\n",
    "start = time.time()\n",
    "\n",
    "results = []\n",
    "\n",
    "def sum_power(n,power):\n",
    "    \n",
    "    sum_power = 0\n",
    "\n",
    "    for i in str(n):\n",
    "        sum_power += int(i)**power\n",
    "\n",
    "    if sum_power == n:\n",
    "        return True\n",
    "    else:\n",
    "        return False\n",
    "    \n",
    "# Loop, starts in 2 because we don't want to count 1\n",
    "# When do we stop the loop?\n",
    "\n",
    "power = 5\n",
    "top_range = 5*(9**5)+1\n",
    "    \n",
    "for i in range(2,top_range):\n",
    "    if sum_power(i,power) == True:\n",
    "        #print(i)\n",
    "        results.append(i)\n",
    "        \n",
    "end = time.time()\n",
    "\n",
    "print(f\"Checked until number {top_range}\")\n",
    "print(f\"The sum of the results is: {sum(results)}\")\n",
    "print(f\"Calcularion time: {round(end-start,4)} secs\")"
   ]
  },
  {
   "cell_type": "code",
   "execution_count": null,
   "metadata": {},
   "outputs": [],
   "source": []
  }
 ],
 "metadata": {
  "kernelspec": {
   "display_name": "Python 3",
   "language": "python",
   "name": "python3"
  },
  "language_info": {
   "codemirror_mode": {
    "name": "ipython",
    "version": 3
   },
   "file_extension": ".py",
   "mimetype": "text/x-python",
   "name": "python",
   "nbconvert_exporter": "python",
   "pygments_lexer": "ipython3",
   "version": "3.7.4"
  }
 },
 "nbformat": 4,
 "nbformat_minor": 2
}
