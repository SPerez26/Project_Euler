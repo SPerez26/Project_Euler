{
 "cells": [
  {
   "cell_type": "markdown",
   "metadata": {},
   "source": [
    "# Problem 21"
   ]
  },
  {
   "cell_type": "code",
   "execution_count": 137,
   "metadata": {},
   "outputs": [],
   "source": [
    "import math , time"
   ]
  },
  {
   "cell_type": "code",
   "execution_count": 138,
   "metadata": {},
   "outputs": [
    {
     "name": "stdout",
     "output_type": "stream",
     "text": [
      "[1184, 6368, 5564, 5020, 2924, 284, 6232, 1210, 220, 2620] The sum is of amicables is: 31626\n",
      "Calculation time: 5.5279 secs.\n"
     ]
    }
   ],
   "source": [
    "# Problem 21\n",
    "\n",
    "numbers = list(range(1,10001))\n",
    "numbers_final = []\n",
    "sum_divisors = []\n",
    "amicables = []\n",
    "\n",
    "start = time.time()\n",
    "\n",
    "# Remove the prime numbers\n",
    "\n",
    "for i in numbers:\n",
    "    \n",
    "    sumdiv = get_divisors(i)\n",
    "    \n",
    "    if isPrime(i) == False and sumdiv <= 10000:\n",
    "        \n",
    "        numbers_final.append(i)\n",
    "        sum_divisors.append(get_divisors(i))\n",
    "\n",
    "# Get the amicables\n",
    "\n",
    "for i in numbers_final:\n",
    "    \n",
    "    if get_divisors(get_divisors(i)) == i and get_divisors(i) != get_divisors(get_divisors(i)):\n",
    "        \n",
    "        amicables.append(i)\n",
    "            \n",
    "            \n",
    "print(list(set(amicables)),\"The sum is of amicables is: \"+str(sum(list(set(amicables)))))\n",
    "\n",
    "            \n",
    "end = time.time()\n",
    "\n",
    "print(\"Calculation time: \" + str(round(end-start,4)) + \" secs.\")"
   ]
  },
  {
   "cell_type": "code",
   "execution_count": 114,
   "metadata": {},
   "outputs": [],
   "source": [
    "def get_divisors(number):\n",
    "    \n",
    "    divisors = []\n",
    "    \n",
    "    for i in range(1,number//2+1):\n",
    "    \n",
    "        if number%i == 0:\n",
    "            \n",
    "            divisors.append(i)\n",
    "            \n",
    "    return sum(divisors)"
   ]
  },
  {
   "cell_type": "code",
   "execution_count": 3,
   "metadata": {},
   "outputs": [],
   "source": [
    "def amicable (n1,n2):\n",
    "    \n",
    "    return get_divisors(n1) == n2 and get_divisors(n2) == n1"
   ]
  },
  {
   "cell_type": "code",
   "execution_count": 50,
   "metadata": {},
   "outputs": [],
   "source": [
    "def isPrime(number):\n",
    "    \n",
    "    factors = []\n",
    "    \n",
    "    for i in range(1,int(math.sqrt(number))+1):\n",
    "        if number%i == 0:\n",
    "            factors.append(i)\n",
    "            \n",
    "    if len(factors) == 1:\n",
    "        return True\n",
    "    else:\n",
    "        return False"
   ]
  }
 ],
 "metadata": {
  "kernelspec": {
   "display_name": "Python 3",
   "language": "python",
   "name": "python3"
  },
  "language_info": {
   "codemirror_mode": {
    "name": "ipython",
    "version": 3
   },
   "file_extension": ".py",
   "mimetype": "text/x-python",
   "name": "python",
   "nbconvert_exporter": "python",
   "pygments_lexer": "ipython3",
   "version": "3.7.4"
  }
 },
 "nbformat": 4,
 "nbformat_minor": 2
}
