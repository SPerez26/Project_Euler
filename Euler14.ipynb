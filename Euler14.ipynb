{
 "cells": [
  {
   "cell_type": "code",
   "execution_count": 38,
   "metadata": {},
   "outputs": [
    {
     "name": "stdout",
     "output_type": "stream",
     "text": [
      "Longest chain: 525, (837799)\n",
      "Calculation time: 32.9894\n"
     ]
    }
   ],
   "source": [
    "# Problem 14\n",
    "\n",
    "import time\n",
    "\n",
    "maximum = 0 #longest chain\n",
    "number = 0 #number with the longest chain\n",
    "\n",
    "start = time.time()\n",
    "\n",
    "for i in range(1,1000001):\n",
    "    \n",
    "    if chain_length(i) > maximum:\n",
    "        \n",
    "        maximum = chain_length(i)\n",
    "        number = i\n",
    "        \n",
    "end = time.time()\n",
    "        \n",
    "print(f\"Longest chain: {maximum}, ({number})\")\n",
    "print(f\"Calculation time: {round(end-start,4)}\")"
   ]
  },
  {
   "cell_type": "code",
   "execution_count": 39,
   "metadata": {},
   "outputs": [
    {
     "data": {
      "text/plain": [
       "525"
      ]
     },
     "execution_count": 39,
     "metadata": {},
     "output_type": "execute_result"
    }
   ],
   "source": [
    "chain_length(837799)"
   ]
  },
  {
   "cell_type": "code",
   "execution_count": 28,
   "metadata": {},
   "outputs": [],
   "source": [
    "def chain_length(number):\n",
    "    \"\"\"\n",
    "    OUTPUT: Length of the chain for a given number\n",
    "    \"\"\"\n",
    "    last_number = 0\n",
    "    start_number = number\n",
    "    i = 0\n",
    "\n",
    "    while last_number != 1:\n",
    "\n",
    "        if start_number%2 == 0:\n",
    "            last_number = start_number / 2\n",
    "            start_number = last_number\n",
    "        else:\n",
    "            last_number = 3*start_number + 1\n",
    "            start_number = last_number\n",
    "\n",
    "        i += 1\n",
    "\n",
    "    return i+1"
   ]
  }
 ],
 "metadata": {
  "kernelspec": {
   "display_name": "Python 3",
   "language": "python",
   "name": "python3"
  },
  "language_info": {
   "codemirror_mode": {
    "name": "ipython",
    "version": 3
   },
   "file_extension": ".py",
   "mimetype": "text/x-python",
   "name": "python",
   "nbconvert_exporter": "python",
   "pygments_lexer": "ipython3",
   "version": "3.7.4"
  }
 },
 "nbformat": 4,
 "nbformat_minor": 2
}
