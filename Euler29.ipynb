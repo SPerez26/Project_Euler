{
 "cells": [
  {
   "cell_type": "markdown",
   "metadata": {},
   "source": [
    "# Problem 29"
   ]
  },
  {
   "cell_type": "code",
   "execution_count": 59,
   "metadata": {},
   "outputs": [
    {
     "name": "stdout",
     "output_type": "stream",
     "text": [
      "9183\n"
     ]
    }
   ],
   "source": [
    "# Problem 29\n",
    "\n",
    "import itertools\n",
    "\n",
    "top_range = 101 # not included\n",
    "\n",
    "mylist = list(range(2,top_range))\n",
    "results = []\n",
    "\n",
    "for i in itertools.permutations(mylist,2):\n",
    "    product = i[0]**i[1]\n",
    "    #print(i,product)\n",
    "    if product not in results:\n",
    "        results.append(product)\n",
    "\n",
    "for i in range(2,top_range):\n",
    "    product = i**i\n",
    "    #print((i,i),product)\n",
    "    if product not in results:\n",
    "        results.append(product)\n",
    "    \n",
    "results.sort()\n",
    "print(len(results))"
   ]
  }
 ],
 "metadata": {
  "kernelspec": {
   "display_name": "Python 3",
   "language": "python",
   "name": "python3"
  },
  "language_info": {
   "codemirror_mode": {
    "name": "ipython",
    "version": 3
   },
   "file_extension": ".py",
   "mimetype": "text/x-python",
   "name": "python",
   "nbconvert_exporter": "python",
   "pygments_lexer": "ipython3",
   "version": "3.7.4"
  }
 },
 "nbformat": 4,
 "nbformat_minor": 2
}
