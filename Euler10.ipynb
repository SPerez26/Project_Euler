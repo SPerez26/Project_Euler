{
 "cells": [
  {
   "cell_type": "code",
   "execution_count": 36,
   "metadata": {},
   "outputs": [
    {
     "name": "stdout",
     "output_type": "stream",
     "text": [
      "Check numbers up to (not including): 2000001\n",
      "There are 148933 prime numbers\n",
      "Sum of all primes: 142913828922\n",
      "Timing: 68.9681 secs\n"
     ]
    }
   ],
   "source": [
    "# Problem 10\n",
    "\n",
    "import math\n",
    "import time\n",
    "\n",
    "start = time.time()\n",
    "\n",
    "primes = [2]\n",
    "\n",
    "n = int(input(\"Check numbers up to (not including): \"))\n",
    "\n",
    "for i in range(3,n,2):\n",
    "    \n",
    "    if isPrime(i):\n",
    "        \n",
    "        primes.append(i)\n",
    "        \n",
    "end = time.time()\n",
    "        \n",
    "print(f\"There are {len(primes)} prime numbers\")\n",
    "print(f\"Sum of all primes: {sum(primes)}\")\n",
    "print(f\"Timing: {round(end-start,4)} secs\")"
   ]
  },
  {
   "cell_type": "code",
   "execution_count": 3,
   "metadata": {},
   "outputs": [],
   "source": [
    "# Optimmized code to check if a number is prime\n",
    "\n",
    "def isPrime(number):\n",
    "    \n",
    "    factors = []\n",
    "    \n",
    "    for i in range(1,int(math.sqrt(number))+1):\n",
    "        if number%i == 0:\n",
    "            factors.append(i)\n",
    "            \n",
    "    if len(factors) == 1:\n",
    "        return True\n",
    "    else:\n",
    "        return False"
   ]
  },
  {
   "cell_type": "code",
   "execution_count": 37,
   "metadata": {},
   "outputs": [
    {
     "data": {
      "text/plain": [
       "False"
      ]
     },
     "execution_count": 37,
     "metadata": {},
     "output_type": "execute_result"
    }
   ],
   "source": [
    "isPrime(2000001)"
   ]
  },
  {
   "cell_type": "code",
   "execution_count": null,
   "metadata": {},
   "outputs": [],
   "source": []
  }
 ],
 "metadata": {
  "kernelspec": {
   "display_name": "Python 3",
   "language": "python",
   "name": "python3"
  },
  "language_info": {
   "codemirror_mode": {
    "name": "ipython",
    "version": 3
   },
   "file_extension": ".py",
   "mimetype": "text/x-python",
   "name": "python",
   "nbconvert_exporter": "python",
   "pygments_lexer": "ipython3",
   "version": "3.7.4"
  }
 },
 "nbformat": 4,
 "nbformat_minor": 2
}
