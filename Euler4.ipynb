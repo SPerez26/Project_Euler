{
 "cells": [
  {
   "cell_type": "code",
   "execution_count": 63,
   "metadata": {},
   "outputs": [
    {
     "name": "stdout",
     "output_type": "stream",
     "text": [
      "Enter lower limit: 100\n",
      "Enter lower limit (not included): 1000\n",
      "Largest palindrome within range: 906609\n"
     ]
    }
   ],
   "source": [
    "# Problem 4\n",
    "\n",
    "# Get candidates\n",
    "\n",
    "a = int(input(\"Enter lower limit: \"))\n",
    "b = int(input(\"Enter lower limit (not included): \"))\n",
    "\n",
    "candidates = getNumbers(a,b)\n",
    "\n",
    "#Check if they read the same both ways (turn into string and reverse?)\n",
    "\n",
    "palindromes = []\n",
    "\n",
    "for i in candidates:\n",
    "    if isPalindrome(i) == True:\n",
    "        palindromes.append(i)\n",
    "        \n",
    "print(f\"Largest palindrome within range: {max(palindromes)}\")\n"
   ]
  },
  {
   "cell_type": "code",
   "execution_count": 6,
   "metadata": {},
   "outputs": [
    {
     "data": {
      "text/plain": [
       "'321'"
      ]
     },
     "execution_count": 6,
     "metadata": {},
     "output_type": "execute_result"
    }
   ],
   "source": [
    "mystring = str(123)\n",
    "mystring[::-1]"
   ]
  },
  {
   "cell_type": "code",
   "execution_count": 54,
   "metadata": {},
   "outputs": [],
   "source": [
    "def isPalindrome(number):\n",
    "    \n",
    "    numb_string = str(number)\n",
    "    \n",
    "    if numb_string == numb_string[::-1]:\n",
    "        return True\n",
    "    else:\n",
    "        return False"
   ]
  },
  {
   "cell_type": "code",
   "execution_count": 52,
   "metadata": {},
   "outputs": [
    {
     "data": {
      "text/plain": [
       "False"
      ]
     },
     "execution_count": 52,
     "metadata": {},
     "output_type": "execute_result"
    }
   ],
   "source": [
    "isPalindrome(100)"
   ]
  },
  {
   "cell_type": "code",
   "execution_count": 42,
   "metadata": {},
   "outputs": [],
   "source": [
    "def getNumbers(a,b):\n",
    "    #345*456 = 456*345\n",
    "    results = []\n",
    "\n",
    "    list1 = list(range(a,b))\n",
    "\n",
    "    for i in list1:\n",
    "        for j in range(a,b):\n",
    "            results.append(i*j)\n",
    "            \n",
    "    return results"
   ]
  },
  {
   "cell_type": "code",
   "execution_count": 40,
   "metadata": {},
   "outputs": [
    {
     "data": {
      "text/plain": [
       "998001"
      ]
     },
     "execution_count": 40,
     "metadata": {},
     "output_type": "execute_result"
    }
   ],
   "source": [
    "getNumbers(100,1000)"
   ]
  },
  {
   "cell_type": "code",
   "execution_count": 22,
   "metadata": {},
   "outputs": [
    {
     "data": {
      "text/plain": [
       "9801"
      ]
     },
     "execution_count": 22,
     "metadata": {},
     "output_type": "execute_result"
    }
   ],
   "source": [
    "results = []\n",
    "\n",
    "list1 = list(range(10,100))\n",
    "\n",
    "for i in list1:\n",
    "    for j in range(10,100):\n",
    "        results.append(i*j)\n",
    "        \n",
    "len(results)\n",
    "max(results)"
   ]
  },
  {
   "cell_type": "code",
   "execution_count": 41,
   "metadata": {},
   "outputs": [
    {
     "data": {
      "text/plain": [
       "998001"
      ]
     },
     "execution_count": 41,
     "metadata": {},
     "output_type": "execute_result"
    }
   ],
   "source": [
    "999**2"
   ]
  },
  {
   "cell_type": "code",
   "execution_count": null,
   "metadata": {},
   "outputs": [],
   "source": []
  }
 ],
 "metadata": {
  "kernelspec": {
   "display_name": "Python 3",
   "language": "python",
   "name": "python3"
  },
  "language_info": {
   "codemirror_mode": {
    "name": "ipython",
    "version": 3
   },
   "file_extension": ".py",
   "mimetype": "text/x-python",
   "name": "python",
   "nbconvert_exporter": "python",
   "pygments_lexer": "ipython3",
   "version": "3.7.4"
  }
 },
 "nbformat": 4,
 "nbformat_minor": 2
}
